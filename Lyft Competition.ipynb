{
 "cells": [
  {
   "cell_type": "code",
   "execution_count": 2,
   "metadata": {},
   "outputs": [],
   "source": [
    "from lyft_dataset_sdk.lyftdataset import LyftDataset\n",
    "from lyft_dataset_sdk.utils.geometry_utils import view_points, transform_matrix\n",
    "from lyft_dataset_sdk.utils.data_classes import LidarPointCloud, Box, Quaternion\n",
    "\n",
    "import json\n",
    "import numpy as np\n",
    "import cv2"
   ]
  },
  {
   "cell_type": "markdown",
   "metadata": {},
   "source": [
    "### Explore Data"
   ]
  },
  {
   "cell_type": "code",
   "execution_count": 2,
   "metadata": {},
   "outputs": [],
   "source": [
    "# Create soft links\n",
    "\n",
    "!ln -s /media/juancr/Data/Lyft/train_images images\n",
    "!ln -s /media/juancr/Data/Lyft/train_maps maps\n",
    "!ln -s /media/juancr/Data/Lyft/train_lidar lidar"
   ]
  },
  {
   "cell_type": "code",
   "execution_count": 2,
   "metadata": {},
   "outputs": [],
   "source": [
    "\n",
    "with open('/media/juancr/Data/Lyft/train_data/sample_data.json') as json_file:\n",
    "    data = json.load(json_file)\n"
   ]
  },
  {
   "cell_type": "markdown",
   "metadata": {},
   "source": [
    "lyft_data = LyftDataset(data_path='.', json_path='/media/juancr/Data/Lyft/train_data', verbose=True)"
   ]
  },
  {
   "cell_type": "markdown",
   "metadata": {},
   "source": [
    "lyft_data.list_scenes()"
   ]
  },
  {
   "cell_type": "markdown",
   "metadata": {},
   "source": [
    "first_scene = lyft_data.scene[0]"
   ]
  },
  {
   "cell_type": "markdown",
   "metadata": {
    "scrolled": true
   },
   "source": [
    "sample_token = first_scene['first_sample_token']\n",
    "\n",
    "lyft_data.render_sample(sample_token)"
   ]
  },
  {
   "cell_type": "markdown",
   "metadata": {},
   "source": [
    "second_scene = lyft_data.scene[1]"
   ]
  },
  {
   "cell_type": "markdown",
   "metadata": {
    "scrolled": true
   },
   "source": [
    "sample_second_token = second_scene['first_sample_token']\n",
    "\n",
    "lyft_data.render_sample(sample_second_token)"
   ]
  },
  {
   "cell_type": "markdown",
   "metadata": {},
   "source": [
    "lyft_data.instance[100]"
   ]
  },
  {
   "cell_type": "markdown",
   "metadata": {},
   "source": [
    "instance_token = lyft_data.instance[100]\n",
    "\n",
    "lyft_data.render_instance(instance_token['token'])"
   ]
  },
  {
   "cell_type": "markdown",
   "metadata": {},
   "source": [
    "lyft_data.list_categories()"
   ]
  },
  {
   "cell_type": "markdown",
   "metadata": {},
   "source": [
    "### LyftTestDataset Class"
   ]
  },
  {
   "cell_type": "code",
   "execution_count": 3,
   "metadata": {},
   "outputs": [],
   "source": [
    "class LyftTestDataset(LyftDataset):\n",
    "    \"\"\"Database class for Lyft Dataset to help query and retrieve information from the database.\"\"\"\n",
    "\n",
    "    def __init__(self, data_path: str, json_path: str, verbose: bool = True, map_resolution: float = 0.1):\n",
    "        \"\"\"Loads database and creates reverse indexes and shortcuts.\n",
    "        Args:\n",
    "            data_path: Path to the tables and data.\n",
    "            json_path: Path to the folder with json files\n",
    "            verbose: Whether to print status messages during load.\n",
    "            map_resolution: Resolution of maps (meters).\n",
    "        \"\"\"\n",
    "\n",
    "        self.data_path = Path(data_path).expanduser().absolute()\n",
    "        self.json_path = Path(json_path)\n",
    "\n",
    "        self.table_names = [\n",
    "            \"category\",\n",
    "            \"attribute\",\n",
    "            \"sensor\",\n",
    "            \"calibrated_sensor\",\n",
    "            \"ego_pose\",\n",
    "            \"log\",\n",
    "            \"scene\",\n",
    "            \"sample\",\n",
    "            \"sample_data\",\n",
    "            \"map\",\n",
    "        ]\n",
    "\n",
    "        start_time = time.time()\n",
    "\n",
    "        # Explicitly assign tables to help the IDE determine valid class members.\n",
    "        self.category = self.__load_table__(\"category\")\n",
    "        self.attribute = self.__load_table__(\"attribute\")\n",
    "        \n",
    "        \n",
    "        self.sensor = self.__load_table__(\"sensor\")\n",
    "        self.calibrated_sensor = self.__load_table__(\"calibrated_sensor\")\n",
    "        self.ego_pose = self.__load_table__(\"ego_pose\")\n",
    "        self.log = self.__load_table__(\"log\")\n",
    "        self.scene = self.__load_table__(\"scene\")\n",
    "        self.sample = self.__load_table__(\"sample\")\n",
    "        self.sample_data = self.__load_table__(\"sample_data\")\n",
    "        \n",
    "        self.map = self.__load_table__(\"map\")\n",
    "\n",
    "        # Initialize map mask for each map record.\n",
    "        for map_record in self.map:\n",
    "            map_record[\"mask\"] = MapMask(self.data_path / map_record[\"filename\"], resolution=map_resolution)\n",
    "\n",
    "        if verbose:\n",
    "            for table in self.table_names:\n",
    "                print(\"{} {},\".format(len(getattr(self, table)), table))\n",
    "            print(\"Done loading in {:.1f} seconds.\\n======\".format(time.time() - start_time))\n",
    "\n",
    "        # Initialize LyftDatasetExplorer class\n",
    "        self.explorer = LyftDatasetExplorer(self)\n",
    "        # Make reverse indexes for common lookups.\n",
    "        self.__make_reverse_index__(verbose)\n",
    "        \n",
    "    def __make_reverse_index__(self, verbose: bool) -> None:\n",
    "        \"\"\"De-normalizes database to create reverse indices for common cases.\n",
    "        Args:\n",
    "            verbose: Whether to print outputs.\n",
    "        \"\"\"\n",
    "\n",
    "        start_time = time.time()\n",
    "        if verbose:\n",
    "            print(\"Reverse indexing ...\")\n",
    "\n",
    "        # Store the mapping from token to table index for each table.\n",
    "        self._token2ind = dict()\n",
    "        for table in self.table_names:\n",
    "            self._token2ind[table] = dict()\n",
    "\n",
    "            for ind, member in enumerate(getattr(self, table)):\n",
    "                self._token2ind[table][member[\"token\"]] = ind\n",
    "\n",
    "        # Decorate (adds short-cut) sample_data with sensor information.\n",
    "        for record in self.sample_data:\n",
    "            cs_record = self.get(\"calibrated_sensor\", record[\"calibrated_sensor_token\"])\n",
    "            sensor_record = self.get(\"sensor\", cs_record[\"sensor_token\"])\n",
    "            record[\"sensor_modality\"] = sensor_record[\"modality\"]\n",
    "            record[\"channel\"] = sensor_record[\"channel\"]\n",
    "\n",
    "        # Reverse-index samples with sample_data and annotations.\n",
    "        for record in self.sample:\n",
    "            record[\"data\"] = {}\n",
    "            record[\"anns\"] = []\n",
    "\n",
    "        for record in self.sample_data:\n",
    "            if record[\"is_key_frame\"]:\n",
    "                sample_record = self.get(\"sample\", record[\"sample_token\"])\n",
    "                sample_record[\"data\"][record[\"channel\"]] = record[\"token\"]\n",
    "\n",
    "        # Add reverse indices from log records to map records.\n",
    "        if \"log_tokens\" not in self.map[0].keys():\n",
    "            raise Exception(\"Error: log_tokens not in map table. This code is not compatible with the teaser dataset.\")\n",
    "        log_to_map = dict()\n",
    "        for map_record in self.map:\n",
    "            for log_token in map_record[\"log_tokens\"]:\n",
    "                log_to_map[log_token] = map_record[\"token\"]\n",
    "        for log_record in self.log:\n",
    "            log_record[\"map_token\"] = log_to_map[log_record[\"token\"]]\n",
    "\n",
    "        if verbose:\n",
    "            print(\"Done reverse indexing in {:.1f} seconds.\\n======\".format(time.time() - start_time))"
   ]
  },
  {
   "cell_type": "code",
   "execution_count": 33,
   "metadata": {},
   "outputs": [],
   "source": [
    "def create_transformation_matrix_to_voxel_space(shape, voxel_size, offset):\n",
    "    \"\"\"\n",
    "    Constructs a transformation matrix given an output voxel shape such that (0,0,0) ends up in the center.\n",
    "    Voxel_size defines how large every voxel is in world coordinate, (1,1,1) would be the same as Minecraft voxels.\n",
    "    \n",
    "    An offset per axis in world coordinates (metric) can be provided, this is useful for Z (up-down) in lidar points.\n",
    "    \"\"\"\n",
    "    \n",
    "    shape, voxel_size, offset = np.array(shape), np.array(voxel_size), np.array(offset)\n",
    "    \n",
    "    tm = np.eye(4, dtype=np.float32)\n",
    "    translation = shape/2 + offset/voxel_size\n",
    "    \n",
    "    tm = tm * np.array(np.hstack((1/voxel_size, [1])))\n",
    "    tm[:3, 3] = np.transpose(translation)\n",
    "    return tm\n",
    "\n",
    "def transform_points(points, transf_matrix):\n",
    "    \"\"\"\n",
    "    Transform (3,N) or (4,N) points using transformation matrix.\n",
    "    \"\"\"\n",
    "    if points.shape[0] not in [3,4]:\n",
    "        raise Exception(\"Points input should be (3,N) or (4,N) shape, received {}\".format(points.shape))\n",
    "    return transf_matrix.dot(np.vstack((points[:3, :], np.ones(points.shape[1]))))[:3, :]"
   ]
  },
  {
   "cell_type": "code",
   "execution_count": 32,
   "metadata": {},
   "outputs": [],
   "source": [
    "def car_to_voxel_coords(points, shape, voxel_size, z_offset=0):\n",
    "    if len(shape) != 3:\n",
    "        raise Exception(\"Voxel volume shape should be 3 dimensions (x,y,z)\")\n",
    "        \n",
    "    if len(points.shape) != 2 or points.shape[0] not in [3, 4]:\n",
    "        raise Exception(\"Input points should be (3,N) or (4,N) in shape, found {}\".format(points.shape))\n",
    "\n",
    "    tm = create_transformation_matrix_to_voxel_space(shape, voxel_size, (0, 0, z_offset))\n",
    "    p = transform_points(points, tm)\n",
    "    return p\n",
    "\n",
    "def create_voxel_pointcloud(points, shape, voxel_size=(0.5,0.5,1), z_offset=0):\n",
    "\n",
    "    points_voxel_coords = car_to_voxel_coords(points.copy(), shape, voxel_size, z_offset)\n",
    "    points_voxel_coords = points_voxel_coords[:3].transpose(1,0)\n",
    "    points_voxel_coords = np.int0(points_voxel_coords)\n",
    "    \n",
    "    bev = np.zeros(shape, dtype=np.float32)\n",
    "    bev_shape = np.array(shape)\n",
    "\n",
    "    within_bounds = (np.all(points_voxel_coords >= 0, axis=1) * np.all(points_voxel_coords < bev_shape, axis=1))\n",
    "    \n",
    "    points_voxel_coords = points_voxel_coords[within_bounds]\n",
    "    coord, count = np.unique(points_voxel_coords, axis=0, return_counts=True)\n",
    "        \n",
    "    # Note X and Y are flipped:\n",
    "    bev[coord[:,1], coord[:,0], coord[:,2]] = count\n",
    "    \n",
    "    return bev\n",
    "\n",
    "def normalize_voxel_intensities(bev, max_intensity=16):\n",
    "    return (bev/max_intensity).clip(0,1)"
   ]
  },
  {
   "cell_type": "code",
   "execution_count": 6,
   "metadata": {},
   "outputs": [],
   "source": [
    "bev_shape = (336, 336, 3)\n",
    "target_im = np.zeros(bev_shape, dtype=np.uint8)\n",
    "\n",
    "def move_boxes_to_car_space(boxes, ego_pose):\n",
    "    \"\"\"\n",
    "    Move boxes from world space to car space.\n",
    "    Note: mutates input boxes.\n",
    "    \"\"\"\n",
    "    translation = -np.array(ego_pose['translation'])\n",
    "    rotation = Quaternion(ego_pose['rotation']).inverse\n",
    "    \n",
    "    for box in boxes:\n",
    "        # Bring box to car space\n",
    "        box.translate(translation)\n",
    "        box.rotate(rotation)\n",
    "        \n",
    "def scale_boxes(boxes, factor):\n",
    "    \"\"\"\n",
    "    Note: mutates input boxes\n",
    "    \"\"\"\n",
    "    for box in boxes:\n",
    "        box.wlh = box.wlh * factor\n",
    "\n",
    "def draw_boxes(im, voxel_size, boxes, classes, z_offset=0.0):\n",
    "    for box in boxes:\n",
    "        # We only care about the bottom corners\n",
    "        corners = box.bottom_corners()\n",
    "        corners_voxel = car_to_voxel_coords(corners, im.shape, voxel_size, z_offset).transpose(1,0)\n",
    "        corners_voxel = corners_voxel[:,:2] # Drop z coord\n",
    "\n",
    "        class_color = classes.index(box.name) + 1\n",
    "        \n",
    "        if class_color == 0:\n",
    "            raise Exception(\"Unknown class: {}\".format(box.name))\n",
    "\n",
    "        cv2.drawContours(im, np.int0([corners_voxel]), 0, (class_color, class_color, class_color), -1)\n"
   ]
  },
  {
   "cell_type": "code",
   "execution_count": 20,
   "metadata": {},
   "outputs": [],
   "source": [
    "import pandas as pd"
   ]
  },
  {
   "cell_type": "code",
   "execution_count": 36,
   "metadata": {},
   "outputs": [
    {
     "data": {
      "text/html": [
       "<div>\n",
       "<style scoped>\n",
       "    .dataframe tbody tr th:only-of-type {\n",
       "        vertical-align: middle;\n",
       "    }\n",
       "\n",
       "    .dataframe tbody tr th {\n",
       "        vertical-align: top;\n",
       "    }\n",
       "\n",
       "    .dataframe thead th {\n",
       "        text-align: right;\n",
       "    }\n",
       "</style>\n",
       "<table border=\"1\" class=\"dataframe\">\n",
       "  <thead>\n",
       "    <tr style=\"text-align: right;\">\n",
       "      <th></th>\n",
       "      <th>Id</th>\n",
       "      <th>PredictionString</th>\n",
       "    </tr>\n",
       "  </thead>\n",
       "  <tbody>\n",
       "    <tr>\n",
       "      <td>0</td>\n",
       "      <td>7eb3e546df5311b035f1d4b7e88351ffdd85f311ef1bdd...</td>\n",
       "      <td>NaN</td>\n",
       "    </tr>\n",
       "    <tr>\n",
       "      <td>1</td>\n",
       "      <td>a76d702996a086ecd4add92b6c533b76f0ab1dd35a4729...</td>\n",
       "      <td>NaN</td>\n",
       "    </tr>\n",
       "    <tr>\n",
       "      <td>2</td>\n",
       "      <td>a9919963e5cd83d12b60bb9c386869ecb4dffcf2e3c401...</td>\n",
       "      <td>NaN</td>\n",
       "    </tr>\n",
       "    <tr>\n",
       "      <td>3</td>\n",
       "      <td>e3f42dc16cb366723699a5e12098edb56907d676cb5720...</td>\n",
       "      <td>NaN</td>\n",
       "    </tr>\n",
       "    <tr>\n",
       "      <td>4</td>\n",
       "      <td>033edef20c7f951738c037c0275dc02279a15454fda3e6...</td>\n",
       "      <td>NaN</td>\n",
       "    </tr>\n",
       "  </tbody>\n",
       "</table>\n",
       "</div>"
      ],
      "text/plain": [
       "                                                  Id  PredictionString\n",
       "0  7eb3e546df5311b035f1d4b7e88351ffdd85f311ef1bdd...               NaN\n",
       "1  a76d702996a086ecd4add92b6c533b76f0ab1dd35a4729...               NaN\n",
       "2  a9919963e5cd83d12b60bb9c386869ecb4dffcf2e3c401...               NaN\n",
       "3  e3f42dc16cb366723699a5e12098edb56907d676cb5720...               NaN\n",
       "4  033edef20c7f951738c037c0275dc02279a15454fda3e6...               NaN"
      ]
     },
     "execution_count": 36,
     "metadata": {},
     "output_type": "execute_result"
    }
   ],
   "source": [
    "sample_sub = pd.read_csv('/media/juancr/Data/Lyft/sample_submission.csv')\n",
    "sample_sub.head()"
   ]
  },
  {
   "cell_type": "code",
   "execution_count": 31,
   "metadata": {},
   "outputs": [],
   "source": [
    "#sample_sub = pd.read_csv('/media/juancr/Data/Lyft/sample_submission.csv')\n",
    "#sample_sub.head()\n",
    "\n",
    "sample_data_train = pd.read_json('/media/juancr/Data/Lyft/train_data/sample_data.json')"
   ]
  },
  {
   "cell_type": "code",
   "execution_count": 36,
   "metadata": {},
   "outputs": [
    {
     "data": {
      "text/html": [
       "<div>\n",
       "<style scoped>\n",
       "    .dataframe tbody tr th:only-of-type {\n",
       "        vertical-align: middle;\n",
       "    }\n",
       "\n",
       "    .dataframe tbody tr th {\n",
       "        vertical-align: top;\n",
       "    }\n",
       "\n",
       "    .dataframe thead th {\n",
       "        text-align: right;\n",
       "    }\n",
       "</style>\n",
       "<table border=\"1\" class=\"dataframe\">\n",
       "  <thead>\n",
       "    <tr style=\"text-align: right;\">\n",
       "      <th></th>\n",
       "      <th>is_key_frame</th>\n",
       "      <th>prev</th>\n",
       "      <th>fileformat</th>\n",
       "      <th>token</th>\n",
       "      <th>timestamp</th>\n",
       "      <th>next</th>\n",
       "      <th>ego_pose_token</th>\n",
       "      <th>sample_token</th>\n",
       "      <th>filename</th>\n",
       "      <th>calibrated_sensor_token</th>\n",
       "      <th>width</th>\n",
       "      <th>height</th>\n",
       "    </tr>\n",
       "  </thead>\n",
       "  <tbody>\n",
       "    <tr>\n",
       "      <td>0</td>\n",
       "      <td>True</td>\n",
       "      <td>d190078ec7869ad5c9e5417371aa3b45eb1c22804a0a29...</td>\n",
       "      <td>bin</td>\n",
       "      <td>ad87e1763749cc8562cca68e2046db128185c80c3e7599...</td>\n",
       "      <td>2019-02-11 21:36:23.701948250</td>\n",
       "      <td>8182fb6868baf63c245a4994b7f3034a7d281d1928a784...</td>\n",
       "      <td>d90d278f2084ae64c98b0aa2dd8d4f83c023f1313beeae...</td>\n",
       "      <td>fd5f1c634b59e3b4e0f7a5c48c768a7d334a63221fced3...</td>\n",
       "      <td>lidar/host-a007_lidar1_1233956183701948366.bin</td>\n",
       "      <td>3b463530b5bae9698c9cc803c1731c36abd359a7296e23...</td>\n",
       "      <td>NaN</td>\n",
       "      <td>NaN</td>\n",
       "    </tr>\n",
       "    <tr>\n",
       "      <td>1</td>\n",
       "      <td>True</td>\n",
       "      <td>83f6f61cb6f2fc9b985cc23bd5613219eee7da390cd083...</td>\n",
       "      <td>bin</td>\n",
       "      <td>ea079138d89f3887b2bfcddfe16b747e2ec7a366ce66b3...</td>\n",
       "      <td>2019-03-04 23:27:01.601281500</td>\n",
       "      <td>c291c5e9c1c70363496e304e964a33036cace6d14c177e...</td>\n",
       "      <td>97c348ec54ca0cfc892361595513d34d19e53583f97832...</td>\n",
       "      <td>c60dc70e93949cbefdda68813cf024fe8e9103bc8a68d6...</td>\n",
       "      <td>lidar/host-a008_lidar1_1235777221601281486.bin</td>\n",
       "      <td>2dba2d3171d7c60b847d65d96babfd7efb487428fa5a3c...</td>\n",
       "      <td>NaN</td>\n",
       "      <td>NaN</td>\n",
       "    </tr>\n",
       "    <tr>\n",
       "      <td>2</td>\n",
       "      <td>True</td>\n",
       "      <td>44555daed204fea486ec10ea1747432501b9f06fe93041...</td>\n",
       "      <td>jpeg</td>\n",
       "      <td>454c65ee6c297d64b17852b4c56def9781a84dcb8558a8...</td>\n",
       "      <td>2019-02-20 23:24:24.650905000</td>\n",
       "      <td>d4b751751ca5424375d0faf3d22b9af83e7c84e1598ba0...</td>\n",
       "      <td>dce9c81e168db4f6fa442cc0bd484a4926dfe73946ba59...</td>\n",
       "      <td>254cea140f7d14fc86e73f789794fb73f81c05831d40f3...</td>\n",
       "      <td>images/host-a007_cam6_1234740264650905006.jpeg</td>\n",
       "      <td>30fcfa36375c0d36fce508cd04c9b1dd07ac283eb87352...</td>\n",
       "      <td>2048.0</td>\n",
       "      <td>864.0</td>\n",
       "    </tr>\n",
       "    <tr>\n",
       "      <td>3</td>\n",
       "      <td>True</td>\n",
       "      <td>de75f3f347742035f2442f4a5fa0334946642daa2d07d8...</td>\n",
       "      <td>jpeg</td>\n",
       "      <td>779018e1f92debcf5c5c28e9577677c6595679780bdf9b...</td>\n",
       "      <td>2019-01-07 22:44:02.299360000</td>\n",
       "      <td>4796998aae092f295fe4f96ce57fc673e3292c7b0368ac...</td>\n",
       "      <td>bb93bbeb3b6d151c805729dba52d4c0c0070f20376090b...</td>\n",
       "      <td>810503d8ca51e9692021ecb56e2b2f2098beaf396cd207...</td>\n",
       "      <td>images/host-a007_cam3_1230936242299360006.jpeg</td>\n",
       "      <td>76e7bb72dd96cb18f5c75abae3b5bab5e41bd4aac39445...</td>\n",
       "      <td>1224.0</td>\n",
       "      <td>1024.0</td>\n",
       "    </tr>\n",
       "    <tr>\n",
       "      <td>4</td>\n",
       "      <td>True</td>\n",
       "      <td>a208568472ef6719faa2540622ada30b004583de9153f4...</td>\n",
       "      <td>jpeg</td>\n",
       "      <td>d966960819eb0aca2883cd3c8d8c5e2540bda952a8cada...</td>\n",
       "      <td>2019-02-08 18:20:23.917652000</td>\n",
       "      <td>1a82a24dafde93234579ae59f48498a8436361cc641a64...</td>\n",
       "      <td>53f6821330f6bc07603db70fde1a96b25bd919471e923c...</td>\n",
       "      <td>119b8c4bbaf1493bebaaa7d823934a8a3f5a80fb095630...</td>\n",
       "      <td>images/host-a004_cam2_1233685223917652006.jpeg</td>\n",
       "      <td>aac6241dd5e28264de261422696af2037868c5133d9329...</td>\n",
       "      <td>1224.0</td>\n",
       "      <td>1024.0</td>\n",
       "    </tr>\n",
       "  </tbody>\n",
       "</table>\n",
       "</div>"
      ],
      "text/plain": [
       "   is_key_frame                                               prev fileformat  \\\n",
       "0          True  d190078ec7869ad5c9e5417371aa3b45eb1c22804a0a29...        bin   \n",
       "1          True  83f6f61cb6f2fc9b985cc23bd5613219eee7da390cd083...        bin   \n",
       "2          True  44555daed204fea486ec10ea1747432501b9f06fe93041...       jpeg   \n",
       "3          True  de75f3f347742035f2442f4a5fa0334946642daa2d07d8...       jpeg   \n",
       "4          True  a208568472ef6719faa2540622ada30b004583de9153f4...       jpeg   \n",
       "\n",
       "                                               token  \\\n",
       "0  ad87e1763749cc8562cca68e2046db128185c80c3e7599...   \n",
       "1  ea079138d89f3887b2bfcddfe16b747e2ec7a366ce66b3...   \n",
       "2  454c65ee6c297d64b17852b4c56def9781a84dcb8558a8...   \n",
       "3  779018e1f92debcf5c5c28e9577677c6595679780bdf9b...   \n",
       "4  d966960819eb0aca2883cd3c8d8c5e2540bda952a8cada...   \n",
       "\n",
       "                      timestamp  \\\n",
       "0 2019-02-11 21:36:23.701948250   \n",
       "1 2019-03-04 23:27:01.601281500   \n",
       "2 2019-02-20 23:24:24.650905000   \n",
       "3 2019-01-07 22:44:02.299360000   \n",
       "4 2019-02-08 18:20:23.917652000   \n",
       "\n",
       "                                                next  \\\n",
       "0  8182fb6868baf63c245a4994b7f3034a7d281d1928a784...   \n",
       "1  c291c5e9c1c70363496e304e964a33036cace6d14c177e...   \n",
       "2  d4b751751ca5424375d0faf3d22b9af83e7c84e1598ba0...   \n",
       "3  4796998aae092f295fe4f96ce57fc673e3292c7b0368ac...   \n",
       "4  1a82a24dafde93234579ae59f48498a8436361cc641a64...   \n",
       "\n",
       "                                      ego_pose_token  \\\n",
       "0  d90d278f2084ae64c98b0aa2dd8d4f83c023f1313beeae...   \n",
       "1  97c348ec54ca0cfc892361595513d34d19e53583f97832...   \n",
       "2  dce9c81e168db4f6fa442cc0bd484a4926dfe73946ba59...   \n",
       "3  bb93bbeb3b6d151c805729dba52d4c0c0070f20376090b...   \n",
       "4  53f6821330f6bc07603db70fde1a96b25bd919471e923c...   \n",
       "\n",
       "                                        sample_token  \\\n",
       "0  fd5f1c634b59e3b4e0f7a5c48c768a7d334a63221fced3...   \n",
       "1  c60dc70e93949cbefdda68813cf024fe8e9103bc8a68d6...   \n",
       "2  254cea140f7d14fc86e73f789794fb73f81c05831d40f3...   \n",
       "3  810503d8ca51e9692021ecb56e2b2f2098beaf396cd207...   \n",
       "4  119b8c4bbaf1493bebaaa7d823934a8a3f5a80fb095630...   \n",
       "\n",
       "                                         filename  \\\n",
       "0  lidar/host-a007_lidar1_1233956183701948366.bin   \n",
       "1  lidar/host-a008_lidar1_1235777221601281486.bin   \n",
       "2  images/host-a007_cam6_1234740264650905006.jpeg   \n",
       "3  images/host-a007_cam3_1230936242299360006.jpeg   \n",
       "4  images/host-a004_cam2_1233685223917652006.jpeg   \n",
       "\n",
       "                             calibrated_sensor_token   width  height  \n",
       "0  3b463530b5bae9698c9cc803c1731c36abd359a7296e23...     NaN     NaN  \n",
       "1  2dba2d3171d7c60b847d65d96babfd7efb487428fa5a3c...     NaN     NaN  \n",
       "2  30fcfa36375c0d36fce508cd04c9b1dd07ac283eb87352...  2048.0   864.0  \n",
       "3  76e7bb72dd96cb18f5c75abae3b5bab5e41bd4aac39445...  1224.0  1024.0  \n",
       "4  aac6241dd5e28264de261422696af2037868c5133d9329...  1224.0  1024.0  "
      ]
     },
     "execution_count": 36,
     "metadata": {},
     "output_type": "execute_result"
    }
   ],
   "source": [
    "sample_data_train.head()"
   ]
  },
  {
   "cell_type": "code",
   "execution_count": 33,
   "metadata": {
    "scrolled": false
   },
   "outputs": [
    {
     "ename": "NameError",
     "evalue": "name 'sample_sub' is not defined",
     "output_type": "error",
     "traceback": [
      "\u001b[0;31m---------------------------------------------------------------------------\u001b[0m",
      "\u001b[0;31mNameError\u001b[0m                                 Traceback (most recent call last)",
      "\u001b[0;32m<ipython-input-33-30590a8d2f53>\u001b[0m in \u001b[0;36m<module>\u001b[0;34m\u001b[0m\n\u001b[0;32m----> 1\u001b[0;31m \u001b[0msample_data_train\u001b[0m\u001b[0;34m.\u001b[0m\u001b[0mloc\u001b[0m\u001b[0;34m[\u001b[0m\u001b[0msample_data_train\u001b[0m\u001b[0;34m.\u001b[0m\u001b[0msample_token\u001b[0m \u001b[0;34m==\u001b[0m \u001b[0msample_sub\u001b[0m\u001b[0;34m.\u001b[0m\u001b[0mloc\u001b[0m\u001b[0;34m[\u001b[0m\u001b[0;36m0\u001b[0m\u001b[0;34m,\u001b[0m\u001b[0;34m'Id'\u001b[0m\u001b[0;34m]\u001b[0m\u001b[0;34m]\u001b[0m\u001b[0;34m\u001b[0m\u001b[0;34m\u001b[0m\u001b[0m\n\u001b[0m",
      "\u001b[0;31mNameError\u001b[0m: name 'sample_sub' is not defined"
     ]
    }
   ],
   "source": [
    "sample_data_train.loc[sample_data_train.sample_token == sample_sub.loc[0,'Id']]"
   ]
  },
  {
   "cell_type": "code",
   "execution_count": 40,
   "metadata": {},
   "outputs": [
    {
     "data": {
      "text/plain": [
       "'ad87e1763749cc8562cca68e2046db128185c80c3e759919f5da448e5d9d9696'"
      ]
     },
     "execution_count": 40,
     "metadata": {},
     "output_type": "execute_result"
    }
   ],
   "source": [
    "sample_data_train.token[0]"
   ]
  },
  {
   "cell_type": "code",
   "execution_count": 47,
   "metadata": {},
   "outputs": [],
   "source": [
    "from matplotlib import pyplot as plt"
   ]
  },
  {
   "cell_type": "code",
   "execution_count": 48,
   "metadata": {},
   "outputs": [
    {
     "data": {
      "image/png": "[encoded data removed]",
      "text/plain": [
       "<Figure size 576x576 with 1 Axes>"
      ]
     },
     "metadata": {
      "needs_background": "light"
     },
     "output_type": "display_data"
    }
   ],
   "source": [
    "# token is lidar_token\n",
    "sample_lidar_token = sample_data_train.token[0]\n",
    "sample_ego_pose_token = sample_data_train.ego_pose_token[0]\n",
    "num_classes = 9\n",
    "ego_pose = level5data.get(\"ego_pose\", sample_ego_pose_token)\n",
    "\n",
    "boxes = level5data.get_boxes(sample_lidar_token)\n",
    "classes = [\"car\", \"motorcycle\", \"bus\", \"bicycle\", \"truck\", \"pedestrian\", \"other_vehicle\", \"animal\", \"emergency_vehicle\"]\n",
    "\n",
    "move_boxes_to_car_space(boxes, ego_pose)\n",
    "scale_boxes(boxes, 0.8)\n",
    "draw_boxes(target_im, voxel_size, boxes, classes, z_offset=z_offset)\n",
    "\n",
    "plt.figure(figsize=(8,8))\n",
    "plt.imshow((target_im > 0).astype(np.float32), cmap='Set2')\n",
    "plt.show()"
   ]
  },
  {
   "cell_type": "markdown",
   "metadata": {},
   "source": [
    "###  Read Test data"
   ]
  },
  {
   "cell_type": "code",
   "execution_count": 44,
   "metadata": {},
   "outputs": [],
   "source": [
    "sample_data_test = pd.read_json('/media/juancr/Data/Lyft/test_data/sample_data.json')"
   ]
  },
  {
   "cell_type": "code",
   "execution_count": 45,
   "metadata": {
    "scrolled": true
   },
   "outputs": [
    {
     "data": {
      "text/html": [
       "<div>\n",
       "<style scoped>\n",
       "    .dataframe tbody tr th:only-of-type {\n",
       "        vertical-align: middle;\n",
       "    }\n",
       "\n",
       "    .dataframe tbody tr th {\n",
       "        vertical-align: top;\n",
       "    }\n",
       "\n",
       "    .dataframe thead th {\n",
       "        text-align: right;\n",
       "    }\n",
       "</style>\n",
       "<table border=\"1\" class=\"dataframe\">\n",
       "  <thead>\n",
       "    <tr style=\"text-align: right;\">\n",
       "      <th></th>\n",
       "      <th>fileformat</th>\n",
       "      <th>is_key_frame</th>\n",
       "      <th>height</th>\n",
       "      <th>timestamp</th>\n",
       "      <th>filename</th>\n",
       "      <th>token</th>\n",
       "      <th>ego_pose_token</th>\n",
       "      <th>sample_token</th>\n",
       "      <th>prev</th>\n",
       "      <th>next</th>\n",
       "      <th>calibrated_sensor_token</th>\n",
       "      <th>width</th>\n",
       "    </tr>\n",
       "  </thead>\n",
       "  <tbody>\n",
       "    <tr>\n",
       "      <td>0</td>\n",
       "      <td>jpeg</td>\n",
       "      <td>True</td>\n",
       "      <td>1024.0</td>\n",
       "      <td>2019-02-08 19:23:28.717605000</td>\n",
       "      <td>images/host-a011_cam2_1233689008717605006.jpeg</td>\n",
       "      <td>1b7ad8ac352589c4a86f9a6cbef4f136a4272bd6291eae...</td>\n",
       "      <td>e170e300eb28df54eaf0ffc16659124aebd3d0df264e24...</td>\n",
       "      <td>2f7129731b7a7a81265deb5f8df44e937ea60824238a1b...</td>\n",
       "      <td>cba4c4e61f2b8824ed22e37e85cd3bf19e9f970eb4fb78...</td>\n",
       "      <td>7e83e9c889f6ef2b45da7223da3b4a201e87b1d88b9cab...</td>\n",
       "      <td>04afbdfff5bc7913179997e0a8e4067ca9eac5cf329001...</td>\n",
       "      <td>1224.0</td>\n",
       "    </tr>\n",
       "    <tr>\n",
       "      <td>1</td>\n",
       "      <td>bin</td>\n",
       "      <td>True</td>\n",
       "      <td>NaN</td>\n",
       "      <td>2019-02-11 23:17:58.301031250</td>\n",
       "      <td>lidar/host-a011_lidar1_1233962278301031366.bin</td>\n",
       "      <td>5468aea18ec7506b5660aab1d09a534d840eaa252b3545...</td>\n",
       "      <td>45ebc7b166fac45f97292939113bbef9b8cfd9cb267021...</td>\n",
       "      <td>311a858f719389a4fd914ccf6bb3b1294c10f95fbbe417...</td>\n",
       "      <td>7a7e5f25824c7db4a3e2ea5ca18eefa23bf2fc13e3549e...</td>\n",
       "      <td>548fd8ce4b103cf28bb2d8059716b05714b96f50919f65...</td>\n",
       "      <td>043947e092f2df7723186143caafad12b5f4ae51328ce0...</td>\n",
       "      <td>NaN</td>\n",
       "    </tr>\n",
       "    <tr>\n",
       "      <td>2</td>\n",
       "      <td>jpeg</td>\n",
       "      <td>True</td>\n",
       "      <td>1024.0</td>\n",
       "      <td>2019-02-11 21:55:58.850968000</td>\n",
       "      <td>images/host-a015_cam0_1233957358850968006.jpeg</td>\n",
       "      <td>59a7689c386ae985181f3b709c2ce3e67b666086be8142...</td>\n",
       "      <td>96f269f9d63e2827d883cebb6529dcfad8f44a59245bdf...</td>\n",
       "      <td>7bfdadbdae169b0dc4a9704de19654203d5658aa961e78...</td>\n",
       "      <td>37dca76ea52c5964eb4ebd8be96b09d6a461f03013a2c9...</td>\n",
       "      <td>758a1ca944111554b062a0df648c3d569df06ff8789ba6...</td>\n",
       "      <td>c6823615f781fb7fbc629fc6992a6dc15786fd3d613eaa...</td>\n",
       "      <td>1224.0</td>\n",
       "    </tr>\n",
       "    <tr>\n",
       "      <td>3</td>\n",
       "      <td>jpeg</td>\n",
       "      <td>True</td>\n",
       "      <td>864.0</td>\n",
       "      <td>2019-02-01 20:50:52.450948000</td>\n",
       "      <td>images/host-a004_cam6_1233089452450948006.jpeg</td>\n",
       "      <td>b87b3ea33a28bbd065fa7123dcc9ff71cac88f3b1d5754...</td>\n",
       "      <td>8d148e2defa6150444d41c1725e5e3a10b0763e04e883a...</td>\n",
       "      <td>85d428b83c90880a23aa634da1a821d0af6e1045046849...</td>\n",
       "      <td>4c291e1f5b4bb43f43b7e268be1efcef9b1c912903e336...</td>\n",
       "      <td>ad749dd7344f857720aaa9cc52b2714f942fd6fe5bc08d...</td>\n",
       "      <td>bb86c8ed87c60936572901c1d8159fcb6f9d46ec7e2ac2...</td>\n",
       "      <td>2048.0</td>\n",
       "    </tr>\n",
       "    <tr>\n",
       "      <td>4</td>\n",
       "      <td>jpeg</td>\n",
       "      <td>True</td>\n",
       "      <td>1024.0</td>\n",
       "      <td>2019-03-08 23:44:18.984485000</td>\n",
       "      <td>images/host-a011_cam4_1236123858984485006.jpeg</td>\n",
       "      <td>d1d674e496610b7c5d42ba46bc48d237b55c77627eec9a...</td>\n",
       "      <td>e6ed33615480148fb928303fda1a38d8074084a09a6b23...</td>\n",
       "      <td>24a7090eca5d85a680bd975ad30ad43bd2a598227fa697...</td>\n",
       "      <td>644f1c0b49b00c78e4ac38f138000e069a6c470fc92c01...</td>\n",
       "      <td>e04d87e2d13b65d62e3c8105004f447cf86164906a2a87...</td>\n",
       "      <td>1752d13cc27a84424457a0ec095f8b501342ae6b96dac7...</td>\n",
       "      <td>1224.0</td>\n",
       "    </tr>\n",
       "  </tbody>\n",
       "</table>\n",
       "</div>"
      ],
      "text/plain": [
       "  fileformat  is_key_frame  height                     timestamp  \\\n",
       "0       jpeg          True  1024.0 2019-02-08 19:23:28.717605000   \n",
       "1        bin          True     NaN 2019-02-11 23:17:58.301031250   \n",
       "2       jpeg          True  1024.0 2019-02-11 21:55:58.850968000   \n",
       "3       jpeg          True   864.0 2019-02-01 20:50:52.450948000   \n",
       "4       jpeg          True  1024.0 2019-03-08 23:44:18.984485000   \n",
       "\n",
       "                                         filename  \\\n",
       "0  images/host-a011_cam2_1233689008717605006.jpeg   \n",
       "1  lidar/host-a011_lidar1_1233962278301031366.bin   \n",
       "2  images/host-a015_cam0_1233957358850968006.jpeg   \n",
       "3  images/host-a004_cam6_1233089452450948006.jpeg   \n",
       "4  images/host-a011_cam4_1236123858984485006.jpeg   \n",
       "\n",
       "                                               token  \\\n",
       "0  1b7ad8ac352589c4a86f9a6cbef4f136a4272bd6291eae...   \n",
       "1  5468aea18ec7506b5660aab1d09a534d840eaa252b3545...   \n",
       "2  59a7689c386ae985181f3b709c2ce3e67b666086be8142...   \n",
       "3  b87b3ea33a28bbd065fa7123dcc9ff71cac88f3b1d5754...   \n",
       "4  d1d674e496610b7c5d42ba46bc48d237b55c77627eec9a...   \n",
       "\n",
       "                                      ego_pose_token  \\\n",
       "0  e170e300eb28df54eaf0ffc16659124aebd3d0df264e24...   \n",
       "1  45ebc7b166fac45f97292939113bbef9b8cfd9cb267021...   \n",
       "2  96f269f9d63e2827d883cebb6529dcfad8f44a59245bdf...   \n",
       "3  8d148e2defa6150444d41c1725e5e3a10b0763e04e883a...   \n",
       "4  e6ed33615480148fb928303fda1a38d8074084a09a6b23...   \n",
       "\n",
       "                                        sample_token  \\\n",
       "0  2f7129731b7a7a81265deb5f8df44e937ea60824238a1b...   \n",
       "1  311a858f719389a4fd914ccf6bb3b1294c10f95fbbe417...   \n",
       "2  7bfdadbdae169b0dc4a9704de19654203d5658aa961e78...   \n",
       "3  85d428b83c90880a23aa634da1a821d0af6e1045046849...   \n",
       "4  24a7090eca5d85a680bd975ad30ad43bd2a598227fa697...   \n",
       "\n",
       "                                                prev  \\\n",
       "0  cba4c4e61f2b8824ed22e37e85cd3bf19e9f970eb4fb78...   \n",
       "1  7a7e5f25824c7db4a3e2ea5ca18eefa23bf2fc13e3549e...   \n",
       "2  37dca76ea52c5964eb4ebd8be96b09d6a461f03013a2c9...   \n",
       "3  4c291e1f5b4bb43f43b7e268be1efcef9b1c912903e336...   \n",
       "4  644f1c0b49b00c78e4ac38f138000e069a6c470fc92c01...   \n",
       "\n",
       "                                                next  \\\n",
       "0  7e83e9c889f6ef2b45da7223da3b4a201e87b1d88b9cab...   \n",
       "1  548fd8ce4b103cf28bb2d8059716b05714b96f50919f65...   \n",
       "2  758a1ca944111554b062a0df648c3d569df06ff8789ba6...   \n",
       "3  ad749dd7344f857720aaa9cc52b2714f942fd6fe5bc08d...   \n",
       "4  e04d87e2d13b65d62e3c8105004f447cf86164906a2a87...   \n",
       "\n",
       "                             calibrated_sensor_token   width  \n",
       "0  04afbdfff5bc7913179997e0a8e4067ca9eac5cf329001...  1224.0  \n",
       "1  043947e092f2df7723186143caafad12b5f4ae51328ce0...     NaN  \n",
       "2  c6823615f781fb7fbc629fc6992a6dc15786fd3d613eaa...  1224.0  \n",
       "3  bb86c8ed87c60936572901c1d8159fcb6f9d46ec7e2ac2...  2048.0  \n",
       "4  1752d13cc27a84424457a0ec095f8b501342ae6b96dac7...  1224.0  "
      ]
     },
     "execution_count": 45,
     "metadata": {},
     "output_type": "execute_result"
    }
   ],
   "source": [
    "sample_data_test.head()"
   ]
  },
  {
   "cell_type": "code",
   "execution_count": 47,
   "metadata": {
    "scrolled": true
   },
   "outputs": [
    {
     "data": {
      "text/html": [
       "<div>\n",
       "<style scoped>\n",
       "    .dataframe tbody tr th:only-of-type {\n",
       "        vertical-align: middle;\n",
       "    }\n",
       "\n",
       "    .dataframe tbody tr th {\n",
       "        vertical-align: top;\n",
       "    }\n",
       "\n",
       "    .dataframe thead th {\n",
       "        text-align: right;\n",
       "    }\n",
       "</style>\n",
       "<table border=\"1\" class=\"dataframe\">\n",
       "  <thead>\n",
       "    <tr style=\"text-align: right;\">\n",
       "      <th></th>\n",
       "      <th>fileformat</th>\n",
       "      <th>is_key_frame</th>\n",
       "      <th>height</th>\n",
       "      <th>timestamp</th>\n",
       "      <th>filename</th>\n",
       "      <th>token</th>\n",
       "      <th>ego_pose_token</th>\n",
       "      <th>sample_token</th>\n",
       "      <th>prev</th>\n",
       "      <th>next</th>\n",
       "      <th>calibrated_sensor_token</th>\n",
       "      <th>width</th>\n",
       "    </tr>\n",
       "  </thead>\n",
       "  <tbody>\n",
       "    <tr>\n",
       "      <td>6697</td>\n",
       "      <td>jpeg</td>\n",
       "      <td>True</td>\n",
       "      <td>1024.0</td>\n",
       "      <td>2019-02-11 23:10:45.884485000</td>\n",
       "      <td>images/host-a011_cam4_1233961845884485006.jpeg</td>\n",
       "      <td>af733b3a1d5be2e80927abb56c02841580ba97a93a9ff5...</td>\n",
       "      <td>0d3996e371c01ba4661fa5c37fa15cf6c3ef329eddb7fb...</td>\n",
       "      <td>7eb3e546df5311b035f1d4b7e88351ffdd85f311ef1bdd...</td>\n",
       "      <td>eaf4e750e2c7a2227bc7a9eb76a504bc75dac284438206...</td>\n",
       "      <td>5b6f1091d3fb4ab9c0df9d4b72acad9eb2a4878ae725b2...</td>\n",
       "      <td>1752d13cc27a84424457a0ec095f8b501342ae6b96dac7...</td>\n",
       "      <td>1224.0</td>\n",
       "    </tr>\n",
       "    <tr>\n",
       "      <td>13841</td>\n",
       "      <td>jpeg</td>\n",
       "      <td>True</td>\n",
       "      <td>1024.0</td>\n",
       "      <td>2019-02-11 23:10:45.800995000</td>\n",
       "      <td>images/host-a011_cam3_1233961845800995006.jpeg</td>\n",
       "      <td>51dd917fb9a5971d77451e8961af5ccdaeb3bb220a4fab...</td>\n",
       "      <td>af41ecc96888d3984c6e2d548dac2d9a5998be443d1625...</td>\n",
       "      <td>7eb3e546df5311b035f1d4b7e88351ffdd85f311ef1bdd...</td>\n",
       "      <td>9b969d8e76872e77fc374d0906fd291494d69b3955f85a...</td>\n",
       "      <td>f916c7750f0f333e459191b5fb2a2c4edc1798bc8a738e...</td>\n",
       "      <td>5132cd2285771663c4a5066d0bed44901b87d57fdd97aa...</td>\n",
       "      <td>1224.0</td>\n",
       "    </tr>\n",
       "    <tr>\n",
       "      <td>93041</td>\n",
       "      <td>jpeg</td>\n",
       "      <td>True</td>\n",
       "      <td>1024.0</td>\n",
       "      <td>2019-02-11 23:10:45.867719000</td>\n",
       "      <td>images/host-a011_cam5_1233961845867719006.jpeg</td>\n",
       "      <td>cf6ebe722ef7e56470c9bdb7aa4b7b79cb6ba951d0ff2d...</td>\n",
       "      <td>77ef701fd88ac81440e1c7f2494e0e6f1dabc4bca4d46e...</td>\n",
       "      <td>7eb3e546df5311b035f1d4b7e88351ffdd85f311ef1bdd...</td>\n",
       "      <td>6914e74cc89da0394580254e8d37df9582c149c1133b39...</td>\n",
       "      <td>db5ac23561bbb98a83058989ac8f8241d96b98d23082aa...</td>\n",
       "      <td>4a1b6804918907b7944679c90319c9d595966a7b17fb2f...</td>\n",
       "      <td>1224.0</td>\n",
       "    </tr>\n",
       "    <tr>\n",
       "      <td>115439</td>\n",
       "      <td>jpeg</td>\n",
       "      <td>True</td>\n",
       "      <td>1024.0</td>\n",
       "      <td>2019-02-11 23:10:45.817605000</td>\n",
       "      <td>images/host-a011_cam2_1233961845817605006.jpeg</td>\n",
       "      <td>5efe8243df94dff3ea097cc9cebab2f3f3294fb6b254c6...</td>\n",
       "      <td>7bcf794a8b924b9ed45e3a52669cc72d527c3c097f6c15...</td>\n",
       "      <td>7eb3e546df5311b035f1d4b7e88351ffdd85f311ef1bdd...</td>\n",
       "      <td>8fdba1a32541d2111f40f865835b9981a8aefe68549f4b...</td>\n",
       "      <td>d6d991902ec8b092645870b376816436ed144da4f918db...</td>\n",
       "      <td>04afbdfff5bc7913179997e0a8e4067ca9eac5cf329001...</td>\n",
       "      <td>1224.0</td>\n",
       "    </tr>\n",
       "    <tr>\n",
       "      <td>132760</td>\n",
       "      <td>bin</td>\n",
       "      <td>True</td>\n",
       "      <td>NaN</td>\n",
       "      <td>2019-02-11 23:10:45.901454500</td>\n",
       "      <td>lidar/host-a011_lidar1_1233961845901454486.bin</td>\n",
       "      <td>84e7e211435d1721daa05e9bb352821ed66be21a2e5019...</td>\n",
       "      <td>61d098d9f185cfc4bfa5d1718bb1eb0c2ac77c93ed1d46...</td>\n",
       "      <td>7eb3e546df5311b035f1d4b7e88351ffdd85f311ef1bdd...</td>\n",
       "      <td>2eca61172e0ed55871e65b60de83f0b660f63e92481269...</td>\n",
       "      <td>deaaf93d0184ec6d915b32923ac027e489b16e489a6e27...</td>\n",
       "      <td>043947e092f2df7723186143caafad12b5f4ae51328ce0...</td>\n",
       "      <td>NaN</td>\n",
       "    </tr>\n",
       "    <tr>\n",
       "      <td>186492</td>\n",
       "      <td>jpeg</td>\n",
       "      <td>True</td>\n",
       "      <td>864.0</td>\n",
       "      <td>2019-02-11 23:10:45.851145000</td>\n",
       "      <td>images/host-a011_cam6_1233961845851145006.jpeg</td>\n",
       "      <td>c06a297ada8204c8a6c998ae64a5df2ab57174f64adc13...</td>\n",
       "      <td>86c339b4dea02017dafa2d45ed90e6fbe2b8cd77bf8b15...</td>\n",
       "      <td>7eb3e546df5311b035f1d4b7e88351ffdd85f311ef1bdd...</td>\n",
       "      <td>983389f329ddb08b7608efedfd729f46804da5480d4605...</td>\n",
       "      <td>64f2e12245a50aecd47afb7da605570efc31c833db315f...</td>\n",
       "      <td>06e8407200e185f3b0efc2f09dfa13af10ec955e01ad5b...</td>\n",
       "      <td>2048.0</td>\n",
       "    </tr>\n",
       "    <tr>\n",
       "      <td>188817</td>\n",
       "      <td>jpeg</td>\n",
       "      <td>True</td>\n",
       "      <td>1024.0</td>\n",
       "      <td>2019-02-11 23:10:45.834517000</td>\n",
       "      <td>images/host-a011_cam1_1233961845834517006.jpeg</td>\n",
       "      <td>d9f7955a5f864596aa2806d78c9986141764e6d8ac0222...</td>\n",
       "      <td>671ee9d6f209845301f593295c31481dfd43c67a0a1bfb...</td>\n",
       "      <td>7eb3e546df5311b035f1d4b7e88351ffdd85f311ef1bdd...</td>\n",
       "      <td>4d0dc7e0962fd7c4d67e8b06ac73d20f2b45b73f642d22...</td>\n",
       "      <td>75470c664e9c589f009a42b36bf0e7f8ebb06b36e3d100...</td>\n",
       "      <td>a873681e01d049e66e8a6833240dca37643bf10855dafc...</td>\n",
       "      <td>1224.0</td>\n",
       "    </tr>\n",
       "    <tr>\n",
       "      <td>194693</td>\n",
       "      <td>jpeg</td>\n",
       "      <td>True</td>\n",
       "      <td>1024.0</td>\n",
       "      <td>2019-02-11 23:10:45.851142000</td>\n",
       "      <td>images/host-a011_cam0_1233961845851142006.jpeg</td>\n",
       "      <td>23628ad51a713eabb69ec9f497e9914653bcc80a91b1d7...</td>\n",
       "      <td>b369d80c46f4c0f243566aafd037504d1a85a163381102...</td>\n",
       "      <td>7eb3e546df5311b035f1d4b7e88351ffdd85f311ef1bdd...</td>\n",
       "      <td>3b32a672b0b3dd45ee09e817582ebcf7203c8cff3b67fa...</td>\n",
       "      <td>61a2c206b62c86391655a7c997a500358cae8f3a517dcb...</td>\n",
       "      <td>f82ed8f880ce9bc140e457f2a4c9b8c438bebbd99b76bc...</td>\n",
       "      <td>1224.0</td>\n",
       "    </tr>\n",
       "  </tbody>\n",
       "</table>\n",
       "</div>"
      ],
      "text/plain": [
       "       fileformat  is_key_frame  height                     timestamp  \\\n",
       "6697         jpeg          True  1024.0 2019-02-11 23:10:45.884485000   \n",
       "13841        jpeg          True  1024.0 2019-02-11 23:10:45.800995000   \n",
       "93041        jpeg          True  1024.0 2019-02-11 23:10:45.867719000   \n",
       "115439       jpeg          True  1024.0 2019-02-11 23:10:45.817605000   \n",
       "132760        bin          True     NaN 2019-02-11 23:10:45.901454500   \n",
       "186492       jpeg          True   864.0 2019-02-11 23:10:45.851145000   \n",
       "188817       jpeg          True  1024.0 2019-02-11 23:10:45.834517000   \n",
       "194693       jpeg          True  1024.0 2019-02-11 23:10:45.851142000   \n",
       "\n",
       "                                              filename  \\\n",
       "6697    images/host-a011_cam4_1233961845884485006.jpeg   \n",
       "13841   images/host-a011_cam3_1233961845800995006.jpeg   \n",
       "93041   images/host-a011_cam5_1233961845867719006.jpeg   \n",
       "115439  images/host-a011_cam2_1233961845817605006.jpeg   \n",
       "132760  lidar/host-a011_lidar1_1233961845901454486.bin   \n",
       "186492  images/host-a011_cam6_1233961845851145006.jpeg   \n",
       "188817  images/host-a011_cam1_1233961845834517006.jpeg   \n",
       "194693  images/host-a011_cam0_1233961845851142006.jpeg   \n",
       "\n",
       "                                                    token  \\\n",
       "6697    af733b3a1d5be2e80927abb56c02841580ba97a93a9ff5...   \n",
       "13841   51dd917fb9a5971d77451e8961af5ccdaeb3bb220a4fab...   \n",
       "93041   cf6ebe722ef7e56470c9bdb7aa4b7b79cb6ba951d0ff2d...   \n",
       "115439  5efe8243df94dff3ea097cc9cebab2f3f3294fb6b254c6...   \n",
       "132760  84e7e211435d1721daa05e9bb352821ed66be21a2e5019...   \n",
       "186492  c06a297ada8204c8a6c998ae64a5df2ab57174f64adc13...   \n",
       "188817  d9f7955a5f864596aa2806d78c9986141764e6d8ac0222...   \n",
       "194693  23628ad51a713eabb69ec9f497e9914653bcc80a91b1d7...   \n",
       "\n",
       "                                           ego_pose_token  \\\n",
       "6697    0d3996e371c01ba4661fa5c37fa15cf6c3ef329eddb7fb...   \n",
       "13841   af41ecc96888d3984c6e2d548dac2d9a5998be443d1625...   \n",
       "93041   77ef701fd88ac81440e1c7f2494e0e6f1dabc4bca4d46e...   \n",
       "115439  7bcf794a8b924b9ed45e3a52669cc72d527c3c097f6c15...   \n",
       "132760  61d098d9f185cfc4bfa5d1718bb1eb0c2ac77c93ed1d46...   \n",
       "186492  86c339b4dea02017dafa2d45ed90e6fbe2b8cd77bf8b15...   \n",
       "188817  671ee9d6f209845301f593295c31481dfd43c67a0a1bfb...   \n",
       "194693  b369d80c46f4c0f243566aafd037504d1a85a163381102...   \n",
       "\n",
       "                                             sample_token  \\\n",
       "6697    7eb3e546df5311b035f1d4b7e88351ffdd85f311ef1bdd...   \n",
       "13841   7eb3e546df5311b035f1d4b7e88351ffdd85f311ef1bdd...   \n",
       "93041   7eb3e546df5311b035f1d4b7e88351ffdd85f311ef1bdd...   \n",
       "115439  7eb3e546df5311b035f1d4b7e88351ffdd85f311ef1bdd...   \n",
       "132760  7eb3e546df5311b035f1d4b7e88351ffdd85f311ef1bdd...   \n",
       "186492  7eb3e546df5311b035f1d4b7e88351ffdd85f311ef1bdd...   \n",
       "188817  7eb3e546df5311b035f1d4b7e88351ffdd85f311ef1bdd...   \n",
       "194693  7eb3e546df5311b035f1d4b7e88351ffdd85f311ef1bdd...   \n",
       "\n",
       "                                                     prev  \\\n",
       "6697    eaf4e750e2c7a2227bc7a9eb76a504bc75dac284438206...   \n",
       "13841   9b969d8e76872e77fc374d0906fd291494d69b3955f85a...   \n",
       "93041   6914e74cc89da0394580254e8d37df9582c149c1133b39...   \n",
       "115439  8fdba1a32541d2111f40f865835b9981a8aefe68549f4b...   \n",
       "132760  2eca61172e0ed55871e65b60de83f0b660f63e92481269...   \n",
       "186492  983389f329ddb08b7608efedfd729f46804da5480d4605...   \n",
       "188817  4d0dc7e0962fd7c4d67e8b06ac73d20f2b45b73f642d22...   \n",
       "194693  3b32a672b0b3dd45ee09e817582ebcf7203c8cff3b67fa...   \n",
       "\n",
       "                                                     next  \\\n",
       "6697    5b6f1091d3fb4ab9c0df9d4b72acad9eb2a4878ae725b2...   \n",
       "13841   f916c7750f0f333e459191b5fb2a2c4edc1798bc8a738e...   \n",
       "93041   db5ac23561bbb98a83058989ac8f8241d96b98d23082aa...   \n",
       "115439  d6d991902ec8b092645870b376816436ed144da4f918db...   \n",
       "132760  deaaf93d0184ec6d915b32923ac027e489b16e489a6e27...   \n",
       "186492  64f2e12245a50aecd47afb7da605570efc31c833db315f...   \n",
       "188817  75470c664e9c589f009a42b36bf0e7f8ebb06b36e3d100...   \n",
       "194693  61a2c206b62c86391655a7c997a500358cae8f3a517dcb...   \n",
       "\n",
       "                                  calibrated_sensor_token   width  \n",
       "6697    1752d13cc27a84424457a0ec095f8b501342ae6b96dac7...  1224.0  \n",
       "13841   5132cd2285771663c4a5066d0bed44901b87d57fdd97aa...  1224.0  \n",
       "93041   4a1b6804918907b7944679c90319c9d595966a7b17fb2f...  1224.0  \n",
       "115439  04afbdfff5bc7913179997e0a8e4067ca9eac5cf329001...  1224.0  \n",
       "132760  043947e092f2df7723186143caafad12b5f4ae51328ce0...     NaN  \n",
       "186492  06e8407200e185f3b0efc2f09dfa13af10ec955e01ad5b...  2048.0  \n",
       "188817  a873681e01d049e66e8a6833240dca37643bf10855dafc...  1224.0  \n",
       "194693  f82ed8f880ce9bc140e457f2a4c9b8c438bebbd99b76bc...  1224.0  "
      ]
     },
     "execution_count": 47,
     "metadata": {},
     "output_type": "execute_result"
    }
   ],
   "source": [
    "sample_data_test.loc[sample_data_test.sample_token == sample_sub.loc[0,'Id']]"
   ]
  },
  {
   "cell_type": "code",
   "execution_count": 29,
   "metadata": {},
   "outputs": [
    {
     "name": "stdout",
     "output_type": "stream",
     "text": [
      "9 category,\n",
      "18 attribute,\n",
      "4 visibility,\n",
      "18421 instance,\n",
      "10 sensor,\n",
      "148 calibrated_sensor,\n",
      "177789 ego_pose,\n",
      "180 log,\n",
      "180 scene,\n",
      "22680 sample,\n",
      "189504 sample_data,\n",
      "638179 sample_annotation,\n",
      "1 map,\n",
      "Done loading in 6.8 seconds.\n",
      "======\n",
      "Reverse indexing ...\n",
      "Done reverse indexing in 2.2 seconds.\n",
      "======\n"
     ]
    }
   ],
   "source": [
    "level5data = LyftDataset(data_path='.', json_path='/media/juancr/Data/Lyft/train_data', verbose=True)"
   ]
  },
  {
   "cell_type": "markdown",
   "metadata": {},
   "source": [
    "sample_sub.loc[0,'Id']\n",
    "level5data.get(\"sample\", sample_token)"
   ]
  },
  {
   "cell_type": "code",
   "execution_count": 27,
   "metadata": {
    "scrolled": true
   },
   "outputs": [
    {
     "data": {
      "image/png": "[encoded data removed]",
      "text/plain": [
       "<Figure size 648x648 with 1 Axes>"
      ]
     },
     "metadata": {
      "needs_background": "light"
     },
     "output_type": "display_data"
    }
   ],
   "source": [
    "def visualize_lidar_of_sample(sample_token, axes_limit=80):\n",
    "    sample = level5data.get(\"sample\", sample_token)\n",
    "    sample_lidar_token = sample[\"data\"][\"LIDAR_TOP\"]\n",
    "    level5data.render_sample_data(sample_lidar_token, axes_limit=axes_limit)\n",
    "    \n",
    "# Don't worry about it being mirrored.\n",
    "visualize_lidar_of_sample(sample_token)"
   ]
  },
  {
   "cell_type": "markdown",
   "metadata": {},
   "source": [
    "### Create artifacts to train data"
   ]
  },
  {
   "cell_type": "code",
   "execution_count": 63,
   "metadata": {},
   "outputs": [],
   "source": [
    "import os\n",
    "from datetime import datetime\n",
    "from functools import partial\n",
    "from multiprocessing import Pool\n"
   ]
  },
  {
   "cell_type": "code",
   "execution_count": 24,
   "metadata": {},
   "outputs": [],
   "source": [
    "# Some hyperparameters we'll need to define for the system\n",
    "voxel_size = (0.4, 0.4, 1.5)\n",
    "z_offset = -2.0\n",
    "bev_shape = (336, 336, 3)\n",
    "\n",
    "# We scale down each box so they are more separated when projected into our coarse voxel space.\n",
    "box_scale = 0.8\n",
    "\n",
    "NUM_WORKERS = os.cpu_count() * 3\n",
    "\n",
    "# \"bev\" stands for birds eye view\n",
    "# test_data_folder = os.path.join(ARTIFACTS_FOLDER, \"bev_test_data\")\n",
    "test_data_folder = '/media/juancr/Data/Lyft/artifacts_test'\n"
   ]
  },
  {
   "cell_type": "code",
   "execution_count": 52,
   "metadata": {
    "scrolled": true
   },
   "outputs": [],
   "source": [
    "NUM_WORKERS = os.cpu_count() * 3\n",
    "\n",
    "def prepare_training_data_for_scene(first_sample_token, output_folder, bev_shape, voxel_size, z_offset, box_scale):\n",
    "    \"\"\"\n",
    "    Given a first sample token (in a scene), output rasterized input volumes and targets in birds-eye-view perspective.\n",
    "\n",
    "    \"\"\"\n",
    "    sample_token = first_sample_token\n",
    "    \n",
    "    while sample_token:\n",
    "        \n",
    "        sample = level5data.get(\"sample\", sample_token)\n",
    "\n",
    "        sample_lidar_token = sample[\"data\"][\"LIDAR_TOP\"]\n",
    "        lidar_data = level5data.get(\"sample_data\", sample_lidar_token)\n",
    "        lidar_filepath = level5data.get_sample_data_path(sample_lidar_token)\n",
    "\n",
    "        ego_pose = level5data.get(\"ego_pose\", lidar_data[\"ego_pose_token\"])\n",
    "        calibrated_sensor = level5data.get(\"calibrated_sensor\", lidar_data[\"calibrated_sensor_token\"])\n",
    "\n",
    "\n",
    "        global_from_car = transform_matrix(ego_pose['translation'],\n",
    "                                           Quaternion(ego_pose['rotation']), inverse=False)\n",
    "\n",
    "        car_from_sensor = transform_matrix(calibrated_sensor['translation'], Quaternion(calibrated_sensor['rotation']),\n",
    "                                            inverse=False)\n",
    "\n",
    "        try:\n",
    "            lidar_pointcloud = LidarPointCloud.from_file(lidar_filepath)\n",
    "            lidar_pointcloud.transform(car_from_sensor)\n",
    "        except Exception as e:\n",
    "            print (\"Failed to load Lidar Pointcloud for {}: {}:\".format(sample_token, e))\n",
    "            sample_token = sample[\"next\"]\n",
    "            continue\n",
    "        \n",
    "        bev = create_voxel_pointcloud(lidar_pointcloud.points, bev_shape, voxel_size=voxel_size, z_offset=z_offset)\n",
    "        bev = normalize_voxel_intensities(bev)\n",
    "\n",
    "        \n",
    "        boxes = level5data.get_boxes(sample_lidar_token)\n",
    "\n",
    "        target = np.zeros_like(bev)\n",
    "\n",
    "        move_boxes_to_car_space(boxes, ego_pose)\n",
    "        scale_boxes(boxes, box_scale)\n",
    "        draw_boxes(target, voxel_size, boxes=boxes, classes=classes, z_offset=z_offset)\n",
    "\n",
    "        bev_im = np.round(bev*255).astype(np.uint8)\n",
    "        target_im = target[:,:,0] # take one channel only\n",
    "\n",
    "        cv2.imwrite(os.path.join(output_folder, \"{}_input.png\".format(sample_token)), bev_im)\n",
    "        cv2.imwrite(os.path.join(output_folder, \"{}_target.png\".format(sample_token)), target_im)\n",
    "        \n",
    "        sample_token = sample[\"next\"]\n"
   ]
  },
  {
   "cell_type": "code",
   "execution_count": 55,
   "metadata": {},
   "outputs": [],
   "source": [
    "## Get train_df\n",
    "records = [(level5data.get('sample', record['first_sample_token'])['timestamp'], record) for record in level5data.scene]\n",
    "\n",
    "entries = []\n",
    "\n",
    "for start_time, record in sorted(records):\n",
    "    start_time = level5data.get('sample', record['first_sample_token'])['timestamp'] / 1000000\n",
    "\n",
    "    token = record['token']\n",
    "    name = record['name']\n",
    "    date = datetime.utcfromtimestamp(start_time)\n",
    "    host = \"-\".join(record['name'].split(\"-\")[:2])\n",
    "    first_sample_token = record[\"first_sample_token\"]\n",
    "\n",
    "    entries.append((host, name, date, token, first_sample_token))\n",
    "            \n",
    "df = pd.DataFrame(entries, columns=[\"host\", \"scene_name\", \"date\", \"scene_token\", \"first_sample_token\"])"
   ]
  },
  {
   "cell_type": "code",
   "execution_count": 56,
   "metadata": {
    "scrolled": true
   },
   "outputs": [
    {
     "data": {
      "text/html": [
       "<div>\n",
       "<style scoped>\n",
       "    .dataframe tbody tr th:only-of-type {\n",
       "        vertical-align: middle;\n",
       "    }\n",
       "\n",
       "    .dataframe tbody tr th {\n",
       "        vertical-align: top;\n",
       "    }\n",
       "\n",
       "    .dataframe thead th {\n",
       "        text-align: right;\n",
       "    }\n",
       "</style>\n",
       "<table border=\"1\" class=\"dataframe\">\n",
       "  <thead>\n",
       "    <tr style=\"text-align: right;\">\n",
       "      <th></th>\n",
       "      <th>host</th>\n",
       "      <th>scene_name</th>\n",
       "      <th>date</th>\n",
       "      <th>scene_token</th>\n",
       "      <th>first_sample_token</th>\n",
       "    </tr>\n",
       "  </thead>\n",
       "  <tbody>\n",
       "    <tr>\n",
       "      <td>0</td>\n",
       "      <td>host-a007</td>\n",
       "      <td>host-a007-lidar0-1230485630199365106-123048565...</td>\n",
       "      <td>2019-01-02 17:33:50.301987</td>\n",
       "      <td>473093b48a7cb78d05e36245fd2dbd12d66ded7dab1ecb...</td>\n",
       "      <td>c7f7de87ec90c8993d4e7d5463208d2aa9f5ecde671960...</td>\n",
       "    </tr>\n",
       "    <tr>\n",
       "      <td>1</td>\n",
       "      <td>host-a007</td>\n",
       "      <td>host-a007-lidar0-1230672860198383106-123067288...</td>\n",
       "      <td>2019-01-04 21:34:20.301189</td>\n",
       "      <td>c62b89d6ae60528c00b8a520bfa16799147f5c2dccbe1e...</td>\n",
       "      <td>07889e50d51717e829cbcb4800e6cb2ce08bdabe92440c...</td>\n",
       "    </tr>\n",
       "    <tr>\n",
       "      <td>2</td>\n",
       "      <td>host-a007</td>\n",
       "      <td>host-a007-lidar0-1230936221299185986-123093624...</td>\n",
       "      <td>2019-01-07 22:43:41.402021</td>\n",
       "      <td>694dc7b4629151745d3e1b228b1d6653b0fc1ded12aa8d...</td>\n",
       "      <td>83ce1da2c4b37ca88a102928f01512acf8f55ac7207d04...</td>\n",
       "    </tr>\n",
       "    <tr>\n",
       "      <td>3</td>\n",
       "      <td>host-a007</td>\n",
       "      <td>host-a007-lidar0-1231093036199514746-123109306...</td>\n",
       "      <td>2019-01-09 18:17:16.302257</td>\n",
       "      <td>8ed3a2f8cf6e01e0d2c0df7db77839f468ed2aa48b6511...</td>\n",
       "      <td>dddda3940f002b0fa6c495a5ad6d5c4a4c8253aa5ed189...</td>\n",
       "    </tr>\n",
       "    <tr>\n",
       "      <td>4</td>\n",
       "      <td>host-a009</td>\n",
       "      <td>host-a009-lidar0-1231200854198312986-123120087...</td>\n",
       "      <td>2019-01-11 00:14:14.301261</td>\n",
       "      <td>a05a48966fbc46666be116a79222374c6c79e6fa930c2f...</td>\n",
       "      <td>8990abea0a146b047a04bc6ed303b16cb1c62cca49bf58...</td>\n",
       "    </tr>\n",
       "  </tbody>\n",
       "</table>\n",
       "</div>"
      ],
      "text/plain": [
       "        host                                         scene_name  \\\n",
       "0  host-a007  host-a007-lidar0-1230485630199365106-123048565...   \n",
       "1  host-a007  host-a007-lidar0-1230672860198383106-123067288...   \n",
       "2  host-a007  host-a007-lidar0-1230936221299185986-123093624...   \n",
       "3  host-a007  host-a007-lidar0-1231093036199514746-123109306...   \n",
       "4  host-a009  host-a009-lidar0-1231200854198312986-123120087...   \n",
       "\n",
       "                        date  \\\n",
       "0 2019-01-02 17:33:50.301987   \n",
       "1 2019-01-04 21:34:20.301189   \n",
       "2 2019-01-07 22:43:41.402021   \n",
       "3 2019-01-09 18:17:16.302257   \n",
       "4 2019-01-11 00:14:14.301261   \n",
       "\n",
       "                                         scene_token  \\\n",
       "0  473093b48a7cb78d05e36245fd2dbd12d66ded7dab1ecb...   \n",
       "1  c62b89d6ae60528c00b8a520bfa16799147f5c2dccbe1e...   \n",
       "2  694dc7b4629151745d3e1b228b1d6653b0fc1ded12aa8d...   \n",
       "3  8ed3a2f8cf6e01e0d2c0df7db77839f468ed2aa48b6511...   \n",
       "4  a05a48966fbc46666be116a79222374c6c79e6fa930c2f...   \n",
       "\n",
       "                                  first_sample_token  \n",
       "0  c7f7de87ec90c8993d4e7d5463208d2aa9f5ecde671960...  \n",
       "1  07889e50d51717e829cbcb4800e6cb2ce08bdabe92440c...  \n",
       "2  83ce1da2c4b37ca88a102928f01512acf8f55ac7207d04...  \n",
       "3  dddda3940f002b0fa6c495a5ad6d5c4a4c8253aa5ed189...  \n",
       "4  8990abea0a146b047a04bc6ed303b16cb1c62cca49bf58...  "
      ]
     },
     "execution_count": 56,
     "metadata": {},
     "output_type": "execute_result"
    }
   ],
   "source": [
    "df.head()"
   ]
  },
  {
   "cell_type": "markdown",
   "metadata": {},
   "source": [
    "###  Execute when there are no data in artifacts_train folder"
   ]
  },
  {
   "cell_type": "code",
   "execution_count": 58,
   "metadata": {},
   "outputs": [
    {
     "name": "stdout",
     "output_type": "stream",
     "text": [
      "140 40 train/validation split scene counts\n"
     ]
    }
   ],
   "source": [
    "validation_hosts = [\"host-a007\", \"host-a008\", \"host-a009\"]\n",
    "\n",
    "validation_df = df[df[\"host\"].isin(validation_hosts)]\n",
    "vi = validation_df.index\n",
    "train_df = df[~df.index.isin(vi)]\n",
    "\n",
    "print(len(train_df), len(validation_df), \"train/validation split scene counts\")"
   ]
  },
  {
   "cell_type": "code",
   "execution_count": 64,
   "metadata": {},
   "outputs": [
    {
     "name": "stdout",
     "output_type": "stream",
     "text": [
      "Preparing data into ./bev_train_data using 36 workers\n"
     ]
    },
    {
     "data": {
      "application/vnd.jupyter.widget-view+json": {
       "model_id": "e17daad9c8a144849cfcd5f9aba29a81",
       "version_major": 2,
       "version_minor": 0
      },
      "text/plain": [
       "HBox(children=(IntProgress(value=0, max=140), HTML(value='')))"
      ]
     },
     "metadata": {},
     "output_type": "display_data"
    },
    {
     "name": "stdout",
     "output_type": "stream",
     "text": [
      "Failed to load Lidar Pointcloud for 9cb04b1a4d476fd0782431764c7b55e91c6dbcbc6197c3dab3e044f13d058011: cannot reshape array of size 265728 into shape (5):\n",
      "\n",
      "Preparing data into ./bev_validation_data using 36 workers\n"
     ]
    },
    {
     "data": {
      "application/vnd.jupyter.widget-view+json": {
       "model_id": "5a19d50fd582401b9abed43d89b78a0d",
       "version_major": 2,
       "version_minor": 0
      },
      "text/plain": [
       "HBox(children=(IntProgress(value=0, max=40), HTML(value='')))"
      ]
     },
     "metadata": {},
     "output_type": "display_data"
    },
    {
     "name": "stdout",
     "output_type": "stream",
     "text": [
      "\n"
     ]
    }
   ],
   "source": [
    "train_data_folder = \"./bev_train_data\"\n",
    "validation_data_folder = \"./bev_validation_data\"\n",
    "\n",
    "for df, data_folder in [(train_df, train_data_folder), (validation_df, validation_data_folder)]:\n",
    "    print(\"Preparing data into {} using {} workers\".format(data_folder, NUM_WORKERS))\n",
    "    first_samples = df.first_sample_token.values\n",
    "\n",
    "    os.makedirs(data_folder, exist_ok=True)\n",
    "    \n",
    "    process_func = partial(prepare_training_data_for_scene,\n",
    "                           output_folder=data_folder, bev_shape=bev_shape, voxel_size=voxel_size, z_offset=z_offset, box_scale=box_scale)\n",
    "\n",
    "    pool = Pool(NUM_WORKERS)\n",
    "    for _ in tqdm_notebook(pool.imap_unordered(process_func, first_samples), total=len(first_samples)):\n",
    "        pass\n",
    "    pool.close()\n",
    "    del pool"
   ]
  },
  {
   "cell_type": "code",
   "execution_count": 26,
   "metadata": {},
   "outputs": [],
   "source": [
    "def prepare_testing_data_for_scene(sample_token, output_folder=test_data_folder,\n",
    "                                   bev_shape=bev_shape, voxel_size=voxel_size, z_offset=z_offset,\n",
    "                                   box_scale=box_scale):\n",
    "    \"\"\"\n",
    "    Given a sample token (in a scene), output rasterized input volumes in birds-eye-view perspective.\n",
    "\n",
    "    \"\"\"\n",
    "    \n",
    "#     while sample_token:\n",
    "        \n",
    "    sample = level5data.get(\"sample\", sample_token)\n",
    "    \n",
    "\n",
    "    sample_lidar_token = sample[\"data\"][\"LIDAR_TOP\"]\n",
    "    lidar_data = level5data.get(\"sample_data\", sample_lidar_token)\n",
    "    lidar_filepath = level5data.get_sample_data_path(sample_lidar_token)\n",
    "    \n",
    "    \n",
    "\n",
    "    ego_pose = level5data.get(\"ego_pose\", lidar_data[\"ego_pose_token\"])\n",
    "    calibrated_sensor = level5data.get(\"calibrated_sensor\", lidar_data[\"calibrated_sensor_token\"])\n",
    "    \n",
    "\n",
    "\n",
    "    global_from_car = transform_matrix(ego_pose['translation'],\n",
    "                                       Quaternion(ego_pose['rotation']), inverse=False)\n",
    "    \n",
    "\n",
    "    car_from_sensor = transform_matrix(calibrated_sensor['translation'], Quaternion(calibrated_sensor['rotation']),\n",
    "                                        inverse=False)\n",
    "    \n",
    "    \n",
    "    lidar_pointcloud = LidarPointCloud.from_file(lidar_filepath)\n",
    "    \n",
    "    lidar_pointcloud.transform(car_from_sensor)\n",
    "\n",
    "    bev = create_voxel_pointcloud(lidar_pointcloud.points, bev_shape, voxel_size=voxel_size, z_offset=z_offset)\n",
    "    bev = normalize_voxel_intensities(bev)\n",
    "\n",
    "    bev_im = np.round(bev*255).astype(np.uint8)\n",
    "    #print(output_folder)\n",
    "    cv2.imwrite(os.path.join(output_folder, \"{}_input.png\".format(sample_token)), bev_im)"
   ]
  },
  {
   "cell_type": "code",
   "execution_count": 17,
   "metadata": {},
   "outputs": [],
   "source": [
    "from tqdm import tqdm, tqdm_notebook"
   ]
  },
  {
   "cell_type": "code",
   "execution_count": 77,
   "metadata": {},
   "outputs": [
    {
     "data": {
      "text/plain": [
       "'fd5f1c634b59e3b4e0f7a5c48c768a7d334a63221fced363a2ebac41f465830d'"
      ]
     },
     "execution_count": 77,
     "metadata": {},
     "output_type": "execute_result"
    }
   ],
   "source": [
    "sample_data_train.sample_token.unique()[0]"
   ]
  },
  {
   "cell_type": "markdown",
   "metadata": {},
   "source": [
    "###  Execute when there are no data in artifacts_test folder"
   ]
  },
  {
   "cell_type": "code",
   "execution_count": 97,
   "metadata": {},
   "outputs": [
    {
     "data": {
      "text/plain": [
       "22680"
      ]
     },
     "execution_count": 97,
     "metadata": {},
     "output_type": "execute_result"
    }
   ],
   "source": [
    "len(sample_data_train.sample_token.unique())"
   ]
  },
  {
   "cell_type": "code",
   "execution_count": 99,
   "metadata": {
    "scrolled": false
   },
   "outputs": [
    {
     "data": {
      "application/vnd.jupyter.widget-view+json": {
       "model_id": "2d352408ac1b406087b9ca9d33cb524a",
       "version_major": 2,
       "version_minor": 0
      },
      "text/plain": [
       "HBox(children=(IntProgress(value=0, max=5962), HTML(value='')))"
      ]
     },
     "metadata": {},
     "output_type": "display_data"
    },
    {
     "name": "stdout",
     "output_type": "stream",
     "text": [
      "\n"
     ]
    }
   ],
   "source": [
    "for token in tqdm_notebook(sample_data_train.sample_token.unique()[16718:]):\n",
    "    prepare_testing_data_for_scene(token)"
   ]
  },
  {
   "cell_type": "markdown",
   "metadata": {},
   "source": [
    "### Load Data"
   ]
  },
  {
   "cell_type": "code",
   "execution_count": 4,
   "metadata": {},
   "outputs": [],
   "source": [
    "import glob\n",
    "from tqdm import tqdm, tqdm_notebook"
   ]
  },
  {
   "cell_type": "code",
   "execution_count": 5,
   "metadata": {},
   "outputs": [],
   "source": [
    "TRAIN_PATH_GLOB = \"./bev_train_data/*_input.png\"\n",
    "TRAIN_TARGET_PATH_GLOB = \"./bev_train_data/*_target.png\"\n",
    "train_fns = glob.glob(TRAIN_PATH_GLOB)\n",
    "train_target_fns = glob.glob(TRAIN_TARGET_PATH_GLOB)"
   ]
  },
  {
   "cell_type": "code",
   "execution_count": 6,
   "metadata": {},
   "outputs": [],
   "source": [
    "img_height,img_width = 336,336\n",
    "img_chan = 3\n",
    "X_train = np.zeros((len(train_fns), img_height, img_width, img_chan), dtype=np.int8) "
   ]
  },
  {
   "cell_type": "code",
   "execution_count": 7,
   "metadata": {},
   "outputs": [],
   "source": [
    "train_target_fns = glob.glob(TRAIN_TARGET_PATH_GLOB)\n",
    "X_train_target = np.zeros((len(train_target_fns), img_height, img_width), dtype=np.int8) "
   ]
  },
  {
   "cell_type": "markdown",
   "metadata": {},
   "source": [
    "###  Read image files"
   ]
  },
  {
   "cell_type": "code",
   "execution_count": 8,
   "metadata": {},
   "outputs": [],
   "source": [
    "from PIL import Image\n",
    "import cv2"
   ]
  },
  {
   "cell_type": "code",
   "execution_count": 7,
   "metadata": {},
   "outputs": [
    {
     "data": {
      "text/plain": [
       "'./bev_train_data/0002feb94bcece2bd8b07da5237e0ee203cc3e84446607bcca1df51aecc34e15_target.png'"
      ]
     },
     "execution_count": 7,
     "metadata": {},
     "output_type": "execute_result"
    }
   ],
   "source": [
    "train_target_fns[0]"
   ]
  },
  {
   "cell_type": "code",
   "execution_count": 35,
   "metadata": {},
   "outputs": [],
   "source": [
    "pic = Image.open(train_target_fns[0])"
   ]
  },
  {
   "cell_type": "code",
   "execution_count": 36,
   "metadata": {},
   "outputs": [
    {
     "data": {
      "text/plain": [
       "(336, 336)"
      ]
     },
     "execution_count": 36,
     "metadata": {},
     "output_type": "execute_result"
    }
   ],
   "source": [
    "np.array(pic).shape"
   ]
  },
  {
   "cell_type": "code",
   "execution_count": 123,
   "metadata": {
    "scrolled": true
   },
   "outputs": [
    {
     "data": {
      "text/plain": [
       "(336, 336, 3)"
      ]
     },
     "execution_count": 123,
     "metadata": {},
     "output_type": "execute_result"
    }
   ],
   "source": [
    "X_train[0].shape"
   ]
  },
  {
   "cell_type": "code",
   "execution_count": 21,
   "metadata": {},
   "outputs": [
    {
     "data": {
      "text/plain": [
       "array([[0, 0, 0],\n",
       "       [0, 0, 0],\n",
       "       [0, 0, 0],\n",
       "       ...,\n",
       "       [0, 0, 0],\n",
       "       [0, 0, 0],\n",
       "       [0, 0, 0]], dtype=int8)"
      ]
     },
     "execution_count": 21,
     "metadata": {},
     "output_type": "execute_result"
    }
   ],
   "source": [
    "X_train[0][150]"
   ]
  },
  {
   "cell_type": "code",
   "execution_count": 9,
   "metadata": {},
   "outputs": [
    {
     "data": {
      "application/vnd.jupyter.widget-view+json": {
       "model_id": "bc9d386c82be4f35919ad51d2df0df90",
       "version_major": 2,
       "version_minor": 0
      },
      "text/plain": [
       "HBox(children=(IntProgress(value=0, max=17639), HTML(value='')))"
      ]
     },
     "metadata": {},
     "output_type": "display_data"
    },
    {
     "name": "stdout",
     "output_type": "stream",
     "text": [
      "\n"
     ]
    }
   ],
   "source": [
    "for i in tqdm_notebook(range(0, len(train_fns))):\n",
    "    X_train[i] += Image.open(train_fns[i])"
   ]
  },
  {
   "cell_type": "code",
   "execution_count": 10,
   "metadata": {},
   "outputs": [
    {
     "data": {
      "application/vnd.jupyter.widget-view+json": {
       "model_id": "9bfa1217d2414d9aa4c07a21a3494f19",
       "version_major": 2,
       "version_minor": 0
      },
      "text/plain": [
       "HBox(children=(IntProgress(value=0, max=17639), HTML(value='')))"
      ]
     },
     "metadata": {},
     "output_type": "display_data"
    },
    {
     "name": "stdout",
     "output_type": "stream",
     "text": [
      "\n"
     ]
    }
   ],
   "source": [
    "for j in tqdm_notebook(range(0, len(train_target_fns))):\n",
    "    X_train_target[j] += Image.open(train_target_fns[j])"
   ]
  },
  {
   "cell_type": "markdown",
   "metadata": {},
   "source": [
    "###  Write model"
   ]
  },
  {
   "cell_type": "code",
   "execution_count": 15,
   "metadata": {},
   "outputs": [],
   "source": [
    "import os \n",
    "from keras import applications\n",
    "from keras.models import Sequential,Model,load_model\n",
    "from keras.layers import Dense, Input, Dropout, Flatten, Conv2D, MaxPool2D, MaxPooling2D,GlobalAveragePooling2D\n",
    "from keras.layers.convolutional import Conv2D, Conv2DTranspose\n",
    "from keras.layers.merge import concatenate\n",
    "from keras.models import load_model\n",
    "from keras.callbacks import EarlyStopping, ModelCheckpoint\n",
    "from keras.optimizers import SGD,Adam"
   ]
  },
  {
   "cell_type": "code",
   "execution_count": 10,
   "metadata": {},
   "outputs": [
    {
     "name": "stdout",
     "output_type": "stream",
     "text": [
      "WARNING:tensorflow:From /home/juancr/anaconda3/envs/lyft/lib/python3.7/site-packages/keras/backend/tensorflow_backend.py:74: The name tf.get_default_graph is deprecated. Please use tf.compat.v1.get_default_graph instead.\n",
      "\n",
      "WARNING:tensorflow:From /home/juancr/anaconda3/envs/lyft/lib/python3.7/site-packages/keras/backend/tensorflow_backend.py:517: The name tf.placeholder is deprecated. Please use tf.compat.v1.placeholder instead.\n",
      "\n",
      "WARNING:tensorflow:From /home/juancr/anaconda3/envs/lyft/lib/python3.7/site-packages/keras/backend/tensorflow_backend.py:4185: The name tf.truncated_normal is deprecated. Please use tf.random.truncated_normal instead.\n",
      "\n",
      "WARNING:tensorflow:From /home/juancr/anaconda3/envs/lyft/lib/python3.7/site-packages/keras/backend/tensorflow_backend.py:174: The name tf.get_default_session is deprecated. Please use tf.compat.v1.get_default_session instead.\n",
      "\n",
      "WARNING:tensorflow:From /home/juancr/anaconda3/envs/lyft/lib/python3.7/site-packages/keras/backend/tensorflow_backend.py:181: The name tf.ConfigProto is deprecated. Please use tf.compat.v1.ConfigProto instead.\n",
      "\n",
      "WARNING:tensorflow:From /home/juancr/anaconda3/envs/lyft/lib/python3.7/site-packages/keras/backend/tensorflow_backend.py:1834: The name tf.nn.fused_batch_norm is deprecated. Please use tf.compat.v1.nn.fused_batch_norm instead.\n",
      "\n",
      "WARNING:tensorflow:From /home/juancr/anaconda3/envs/lyft/lib/python3.7/site-packages/keras/backend/tensorflow_backend.py:3976: The name tf.nn.max_pool is deprecated. Please use tf.nn.max_pool2d instead.\n",
      "\n"
     ]
    },
    {
     "name": "stderr",
     "output_type": "stream",
     "text": [
      "/home/juancr/anaconda3/envs/lyft/lib/python3.7/site-packages/keras_applications/resnet50.py:265: UserWarning: The output shape of `ResNet50(include_top=False)` has been changed since Keras 2.2.0.\n",
      "  warnings.warn('The output shape of `ResNet50(include_top=False)` '\n"
     ]
    }
   ],
   "source": [
    "\n",
    "base_model = applications.resnet50.ResNet50(weights=None, include_top=False, input_shape=(img_height,img_width,3))"
   ]
  },
  {
   "cell_type": "code",
   "execution_count": 11,
   "metadata": {},
   "outputs": [
    {
     "name": "stdout",
     "output_type": "stream",
     "text": [
      "WARNING:tensorflow:From /home/juancr/anaconda3/envs/lyft/lib/python3.7/site-packages/keras/backend/tensorflow_backend.py:3445: calling dropout (from tensorflow.python.ops.nn_ops) with keep_prob is deprecated and will be removed in a future version.\n",
      "Instructions for updating:\n",
      "Please use `rate` instead of `keep_prob`. Rate should be set to `rate = 1 - keep_prob`.\n",
      "WARNING:tensorflow:Large dropout rate: 0.7 (>0.5). In TensorFlow 2.x, dropout() uses dropout rate instead of keep_prob. Please ensure that this is intended.\n"
     ]
    },
    {
     "name": "stderr",
     "output_type": "stream",
     "text": [
      "/home/juancr/anaconda3/envs/lyft/lib/python3.7/site-packages/ipykernel_launcher.py:7: UserWarning: Update your `Model` call to the Keras 2 API: `Model(inputs=Tensor(\"in..., outputs=Tensor(\"de...)`\n",
      "  import sys\n"
     ]
    }
   ],
   "source": [
    "num_classes = 9\n",
    "tensor_output = img_height*img_width\n",
    "x = base_model.output\n",
    "x = GlobalAveragePooling2D()(x)\n",
    "x = Dropout(0.7)(x)\n",
    "prediction = Dense(tensor_output, activation='softmax')(x)\n",
    "model = Model(inputs=base_model.input, output=prediction)"
   ]
  },
  {
   "cell_type": "code",
   "execution_count": 39,
   "metadata": {},
   "outputs": [],
   "source": [
    "\n",
    "# sgd = SGD(lr=lrate, momentum=0.9, decay=decay, nesterov=False)\n",
    "adam = Adam(lr=0.00001)\n",
    "model.compile(optimizer=adam, loss='categorical_crossentropy', metrics=['accuracy'])"
   ]
  },
  {
   "cell_type": "code",
   "execution_count": 19,
   "metadata": {},
   "outputs": [
    {
     "data": {
      "text/plain": [
       "(17639, 336, 336, 3)"
      ]
     },
     "execution_count": 19,
     "metadata": {},
     "output_type": "execute_result"
    }
   ],
   "source": [
    "X_train.shape"
   ]
  },
  {
   "cell_type": "code",
   "execution_count": 24,
   "metadata": {},
   "outputs": [
    {
     "data": {
      "text/plain": [
       "(17639, 336, 336)"
      ]
     },
     "execution_count": 24,
     "metadata": {},
     "output_type": "execute_result"
    }
   ],
   "source": [
    "X_train_target.shape"
   ]
  },
  {
   "cell_type": "code",
   "execution_count": 47,
   "metadata": {},
   "outputs": [
    {
     "ename": "ValueError",
     "evalue": "cannot reshape array of size 1991372544 into shape (336,336)",
     "output_type": "error",
     "traceback": [
      "\u001b[0;31m---------------------------------------------------------------------------\u001b[0m",
      "\u001b[0;31mValueError\u001b[0m                                Traceback (most recent call last)",
      "\u001b[0;32m<ipython-input-47-af44af400bee>\u001b[0m in \u001b[0;36m<module>\u001b[0;34m\u001b[0m\n\u001b[0;32m----> 1\u001b[0;31m \u001b[0mX_train_target_res\u001b[0m \u001b[0;34m=\u001b[0m \u001b[0mX_train_target\u001b[0m\u001b[0;34m.\u001b[0m\u001b[0mreshape\u001b[0m\u001b[0;34m(\u001b[0m\u001b[0;34m(\u001b[0m\u001b[0mimg_height\u001b[0m\u001b[0;34m,\u001b[0m \u001b[0mimg_width\u001b[0m\u001b[0;34m)\u001b[0m\u001b[0;34m)\u001b[0m\u001b[0;34m\u001b[0m\u001b[0;34m\u001b[0m\u001b[0m\n\u001b[0m",
      "\u001b[0;31mValueError\u001b[0m: cannot reshape array of size 1991372544 into shape (336,336)"
     ]
    }
   ],
   "source": [
    "X_train_target_res = X_train_target.reshape((-1, img_height, img_width))"
   ]
  },
  {
   "cell_type": "code",
   "execution_count": 21,
   "metadata": {},
   "outputs": [],
   "source": [
    "X_train_res = X_train.reshape((-1, img_height, img_width, 1))"
   ]
  },
  {
   "cell_type": "code",
   "execution_count": 46,
   "metadata": {},
   "outputs": [
    {
     "ename": "ValueError",
     "evalue": "Error when checking target: expected dense_5 to have 2 dimensions, but got array with shape (17639, 336, 336)",
     "output_type": "error",
     "traceback": [
      "\u001b[0;31m---------------------------------------------------------------------------\u001b[0m",
      "\u001b[0;31mValueError\u001b[0m                                Traceback (most recent call last)",
      "\u001b[0;32m<ipython-input-46-3c201ad393c5>\u001b[0m in \u001b[0;36m<module>\u001b[0;34m\u001b[0m\n\u001b[0;32m----> 1\u001b[0;31m \u001b[0mmodel\u001b[0m\u001b[0;34m.\u001b[0m\u001b[0mfit\u001b[0m\u001b[0;34m(\u001b[0m\u001b[0mx\u001b[0m\u001b[0;34m=\u001b[0m\u001b[0mX_train\u001b[0m\u001b[0;34m,\u001b[0m \u001b[0my\u001b[0m\u001b[0;34m=\u001b[0m\u001b[0mX_train_target_res\u001b[0m\u001b[0;34m,\u001b[0m \u001b[0mepochs\u001b[0m\u001b[0;34m=\u001b[0m\u001b[0;36m10\u001b[0m\u001b[0;34m,\u001b[0m \u001b[0mbatch_size\u001b[0m\u001b[0;34m=\u001b[0m\u001b[0;36m64\u001b[0m\u001b[0;34m)\u001b[0m\u001b[0;34m\u001b[0m\u001b[0;34m\u001b[0m\u001b[0m\n\u001b[0m",
      "\u001b[0;32m~/anaconda3/envs/lyft/lib/python3.7/site-packages/keras/engine/training.py\u001b[0m in \u001b[0;36mfit\u001b[0;34m(self, x, y, batch_size, epochs, verbose, callbacks, validation_split, validation_data, shuffle, class_weight, sample_weight, initial_epoch, steps_per_epoch, validation_steps, **kwargs)\u001b[0m\n\u001b[1;32m    950\u001b[0m             \u001b[0msample_weight\u001b[0m\u001b[0;34m=\u001b[0m\u001b[0msample_weight\u001b[0m\u001b[0;34m,\u001b[0m\u001b[0;34m\u001b[0m\u001b[0;34m\u001b[0m\u001b[0m\n\u001b[1;32m    951\u001b[0m             \u001b[0mclass_weight\u001b[0m\u001b[0;34m=\u001b[0m\u001b[0mclass_weight\u001b[0m\u001b[0;34m,\u001b[0m\u001b[0;34m\u001b[0m\u001b[0;34m\u001b[0m\u001b[0m\n\u001b[0;32m--> 952\u001b[0;31m             batch_size=batch_size)\n\u001b[0m\u001b[1;32m    953\u001b[0m         \u001b[0;31m# Prepare validation data.\u001b[0m\u001b[0;34m\u001b[0m\u001b[0;34m\u001b[0m\u001b[0;34m\u001b[0m\u001b[0m\n\u001b[1;32m    954\u001b[0m         \u001b[0mdo_validation\u001b[0m \u001b[0;34m=\u001b[0m \u001b[0;32mFalse\u001b[0m\u001b[0;34m\u001b[0m\u001b[0;34m\u001b[0m\u001b[0m\n",
      "\u001b[0;32m~/anaconda3/envs/lyft/lib/python3.7/site-packages/keras/engine/training.py\u001b[0m in \u001b[0;36m_standardize_user_data\u001b[0;34m(self, x, y, sample_weight, class_weight, check_array_lengths, batch_size)\u001b[0m\n\u001b[1;32m    787\u001b[0m                 \u001b[0mfeed_output_shapes\u001b[0m\u001b[0;34m,\u001b[0m\u001b[0;34m\u001b[0m\u001b[0;34m\u001b[0m\u001b[0m\n\u001b[1;32m    788\u001b[0m                 \u001b[0mcheck_batch_axis\u001b[0m\u001b[0;34m=\u001b[0m\u001b[0;32mFalse\u001b[0m\u001b[0;34m,\u001b[0m  \u001b[0;31m# Don't enforce the batch size.\u001b[0m\u001b[0;34m\u001b[0m\u001b[0;34m\u001b[0m\u001b[0m\n\u001b[0;32m--> 789\u001b[0;31m                 exception_prefix='target')\n\u001b[0m\u001b[1;32m    790\u001b[0m \u001b[0;34m\u001b[0m\u001b[0m\n\u001b[1;32m    791\u001b[0m             \u001b[0;31m# Generate sample-wise weight values given the `sample_weight` and\u001b[0m\u001b[0;34m\u001b[0m\u001b[0;34m\u001b[0m\u001b[0;34m\u001b[0m\u001b[0m\n",
      "\u001b[0;32m~/anaconda3/envs/lyft/lib/python3.7/site-packages/keras/engine/training_utils.py\u001b[0m in \u001b[0;36mstandardize_input_data\u001b[0;34m(data, names, shapes, check_batch_axis, exception_prefix)\u001b[0m\n\u001b[1;32m    126\u001b[0m                         \u001b[0;34m': expected '\u001b[0m \u001b[0;34m+\u001b[0m \u001b[0mnames\u001b[0m\u001b[0;34m[\u001b[0m\u001b[0mi\u001b[0m\u001b[0;34m]\u001b[0m \u001b[0;34m+\u001b[0m \u001b[0;34m' to have '\u001b[0m \u001b[0;34m+\u001b[0m\u001b[0;34m\u001b[0m\u001b[0;34m\u001b[0m\u001b[0m\n\u001b[1;32m    127\u001b[0m                         \u001b[0mstr\u001b[0m\u001b[0;34m(\u001b[0m\u001b[0mlen\u001b[0m\u001b[0;34m(\u001b[0m\u001b[0mshape\u001b[0m\u001b[0;34m)\u001b[0m\u001b[0;34m)\u001b[0m \u001b[0;34m+\u001b[0m \u001b[0;34m' dimensions, but got array '\u001b[0m\u001b[0;34m\u001b[0m\u001b[0;34m\u001b[0m\u001b[0m\n\u001b[0;32m--> 128\u001b[0;31m                         'with shape ' + str(data_shape))\n\u001b[0m\u001b[1;32m    129\u001b[0m                 \u001b[0;32mif\u001b[0m \u001b[0;32mnot\u001b[0m \u001b[0mcheck_batch_axis\u001b[0m\u001b[0;34m:\u001b[0m\u001b[0;34m\u001b[0m\u001b[0;34m\u001b[0m\u001b[0m\n\u001b[1;32m    130\u001b[0m                     \u001b[0mdata_shape\u001b[0m \u001b[0;34m=\u001b[0m \u001b[0mdata_shape\u001b[0m\u001b[0;34m[\u001b[0m\u001b[0;36m1\u001b[0m\u001b[0;34m:\u001b[0m\u001b[0;34m]\u001b[0m\u001b[0;34m\u001b[0m\u001b[0;34m\u001b[0m\u001b[0m\n",
      "\u001b[0;31mValueError\u001b[0m: Error when checking target: expected dense_5 to have 2 dimensions, but got array with shape (17639, 336, 336)"
     ]
    }
   ],
   "source": [
    "\n",
    "\n",
    "model.fit(x=X_train, y=X_train_target_res, epochs=10, batch_size=64)"
   ]
  },
  {
   "cell_type": "markdown",
   "metadata": {},
   "source": [
    "###  Write second model"
   ]
  },
  {
   "cell_type": "code",
   "execution_count": 12,
   "metadata": {},
   "outputs": [],
   "source": [
    "from keras.layers import BatchNormalization, Activation\n",
    "\n",
    "def conv2d_block(input_tensor, n_filters, kernel_size=3, batchnorm=True):\n",
    "    # first layer\n",
    "    x = Conv2D(filters=n_filters, kernel_size=(kernel_size, kernel_size), kernel_initializer=\"he_normal\",\n",
    "               padding=\"same\")(input_tensor)\n",
    "    if batchnorm:\n",
    "        x = BatchNormalization()(x)\n",
    "    x = Activation(\"relu\")(x)\n",
    "    # second layer\n",
    "    x = Conv2D(filters=n_filters, kernel_size=(kernel_size, kernel_size), kernel_initializer=\"he_normal\",\n",
    "               padding=\"same\")(x)\n",
    "    if batchnorm:\n",
    "        x = BatchNormalization()(x)\n",
    "    x = Activation(\"relu\")(x)\n",
    "    return x"
   ]
  },
  {
   "cell_type": "code",
   "execution_count": 13,
   "metadata": {},
   "outputs": [],
   "source": [
    "def get_unet(input_img, n_filters=16, dropout=0.5, batchnorm=True):\n",
    "    # contracting path\n",
    "    c1 = conv2d_block(input_img, n_filters=n_filters*1, kernel_size=3, batchnorm=batchnorm)\n",
    "    p1 = MaxPooling2D((2, 2)) (c1)\n",
    "    p1 = Dropout(dropout*0.5)(p1)\n",
    "\n",
    "    c2 = conv2d_block(p1, n_filters=n_filters*2, kernel_size=3, batchnorm=batchnorm)\n",
    "    p2 = MaxPooling2D((2, 2)) (c2)\n",
    "    p2 = Dropout(dropout)(p2)\n",
    "\n",
    "    c3 = conv2d_block(p2, n_filters=n_filters*4, kernel_size=3, batchnorm=batchnorm)\n",
    "    p3 = MaxPooling2D((2, 2)) (c3)\n",
    "    p3 = Dropout(dropout)(p3)\n",
    "\n",
    "    c4 = conv2d_block(p3, n_filters=n_filters*8, kernel_size=3, batchnorm=batchnorm)\n",
    "    p4 = MaxPooling2D(pool_size=(2, 2)) (c4)\n",
    "    p4 = Dropout(dropout)(p4)\n",
    "    \n",
    "    c5 = conv2d_block(p4, n_filters=n_filters*16, kernel_size=3, batchnorm=batchnorm)\n",
    "    \n",
    "    # expansive path\n",
    "    u6 = Conv2DTranspose(n_filters*8, (3, 3), strides=(2, 2), padding='same') (c5)\n",
    "    u6 = concatenate([u6, c4])\n",
    "    u6 = Dropout(dropout)(u6)\n",
    "    c6 = conv2d_block(u6, n_filters=n_filters*8, kernel_size=3, batchnorm=batchnorm)\n",
    "\n",
    "    u7 = Conv2DTranspose(n_filters*4, (3, 3), strides=(2, 2), padding='same') (c6)\n",
    "    u7 = concatenate([u7, c3])\n",
    "    u7 = Dropout(dropout)(u7)\n",
    "    c7 = conv2d_block(u7, n_filters=n_filters*4, kernel_size=3, batchnorm=batchnorm)\n",
    "\n",
    "    u8 = Conv2DTranspose(n_filters*2, (3, 3), strides=(2, 2), padding='same') (c7)\n",
    "    u8 = concatenate([u8, c2])\n",
    "    u8 = Dropout(dropout)(u8)\n",
    "    c8 = conv2d_block(u8, n_filters=n_filters*2, kernel_size=3, batchnorm=batchnorm)\n",
    "\n",
    "    u9 = Conv2DTranspose(n_filters*1, (3, 3), strides=(2, 2), padding='same') (c8)\n",
    "    u9 = concatenate([u9, c1], axis=3)\n",
    "    u9 = Dropout(dropout)(u9)\n",
    "    c9 = conv2d_block(u9, n_filters=n_filters*1, kernel_size=3, batchnorm=batchnorm)\n",
    "    \n",
    "    outputs = Conv2D(1, (1, 1), activation='sigmoid') (c9)\n",
    "    model = Model(inputs=[input_img], outputs=[outputs])\n",
    "    return model"
   ]
  },
  {
   "cell_type": "code",
   "execution_count": 16,
   "metadata": {},
   "outputs": [
    {
     "name": "stdout",
     "output_type": "stream",
     "text": [
      "WARNING:tensorflow:From /home/juancr/anaconda3/envs/lyft/lib/python3.7/site-packages/keras/optimizers.py:790: The name tf.train.Optimizer is deprecated. Please use tf.compat.v1.train.Optimizer instead.\n",
      "\n",
      "WARNING:tensorflow:From /home/juancr/anaconda3/envs/lyft/lib/python3.7/site-packages/tensorflow/python/ops/nn_impl.py:180: add_dispatch_support.<locals>.wrapper (from tensorflow.python.ops.array_ops) is deprecated and will be removed in a future version.\n",
      "Instructions for updating:\n",
      "Use tf.where in 2.0, which has the same broadcast rule as np.where\n",
      "__________________________________________________________________________________________________\n",
      "Layer (type)                    Output Shape         Param #     Connected to                     \n",
      "==================================================================================================\n",
      "img (InputLayer)                (None, 336, 336, 1)  0                                            \n",
      "__________________________________________________________________________________________________\n",
      "conv2d_20 (Conv2D)              (None, 336, 336, 16) 160         img[0][0]                        \n",
      "__________________________________________________________________________________________________\n",
      "batch_normalization_19 (BatchNo (None, 336, 336, 16) 64          conv2d_20[0][0]                  \n",
      "__________________________________________________________________________________________________\n",
      "activation_19 (Activation)      (None, 336, 336, 16) 0           batch_normalization_19[0][0]     \n",
      "__________________________________________________________________________________________________\n",
      "conv2d_21 (Conv2D)              (None, 336, 336, 16) 2320        activation_19[0][0]              \n",
      "__________________________________________________________________________________________________\n",
      "batch_normalization_20 (BatchNo (None, 336, 336, 16) 64          conv2d_21[0][0]                  \n",
      "__________________________________________________________________________________________________\n",
      "activation_20 (Activation)      (None, 336, 336, 16) 0           batch_normalization_20[0][0]     \n",
      "__________________________________________________________________________________________________\n",
      "max_pooling2d_5 (MaxPooling2D)  (None, 168, 168, 16) 0           activation_20[0][0]              \n",
      "__________________________________________________________________________________________________\n",
      "dropout_9 (Dropout)             (None, 168, 168, 16) 0           max_pooling2d_5[0][0]            \n",
      "__________________________________________________________________________________________________\n",
      "conv2d_22 (Conv2D)              (None, 168, 168, 32) 4640        dropout_9[0][0]                  \n",
      "__________________________________________________________________________________________________\n",
      "batch_normalization_21 (BatchNo (None, 168, 168, 32) 128         conv2d_22[0][0]                  \n",
      "__________________________________________________________________________________________________\n",
      "activation_21 (Activation)      (None, 168, 168, 32) 0           batch_normalization_21[0][0]     \n",
      "__________________________________________________________________________________________________\n",
      "conv2d_23 (Conv2D)              (None, 168, 168, 32) 9248        activation_21[0][0]              \n",
      "__________________________________________________________________________________________________\n",
      "batch_normalization_22 (BatchNo (None, 168, 168, 32) 128         conv2d_23[0][0]                  \n",
      "__________________________________________________________________________________________________\n",
      "activation_22 (Activation)      (None, 168, 168, 32) 0           batch_normalization_22[0][0]     \n",
      "__________________________________________________________________________________________________\n",
      "max_pooling2d_6 (MaxPooling2D)  (None, 84, 84, 32)   0           activation_22[0][0]              \n",
      "__________________________________________________________________________________________________\n",
      "dropout_10 (Dropout)            (None, 84, 84, 32)   0           max_pooling2d_6[0][0]            \n",
      "__________________________________________________________________________________________________\n",
      "conv2d_24 (Conv2D)              (None, 84, 84, 64)   18496       dropout_10[0][0]                 \n",
      "__________________________________________________________________________________________________\n",
      "batch_normalization_23 (BatchNo (None, 84, 84, 64)   256         conv2d_24[0][0]                  \n",
      "__________________________________________________________________________________________________\n",
      "activation_23 (Activation)      (None, 84, 84, 64)   0           batch_normalization_23[0][0]     \n",
      "__________________________________________________________________________________________________\n",
      "conv2d_25 (Conv2D)              (None, 84, 84, 64)   36928       activation_23[0][0]              \n",
      "__________________________________________________________________________________________________\n",
      "batch_normalization_24 (BatchNo (None, 84, 84, 64)   256         conv2d_25[0][0]                  \n",
      "__________________________________________________________________________________________________\n",
      "activation_24 (Activation)      (None, 84, 84, 64)   0           batch_normalization_24[0][0]     \n",
      "__________________________________________________________________________________________________\n",
      "max_pooling2d_7 (MaxPooling2D)  (None, 42, 42, 64)   0           activation_24[0][0]              \n",
      "__________________________________________________________________________________________________\n",
      "dropout_11 (Dropout)            (None, 42, 42, 64)   0           max_pooling2d_7[0][0]            \n",
      "__________________________________________________________________________________________________\n",
      "conv2d_26 (Conv2D)              (None, 42, 42, 128)  73856       dropout_11[0][0]                 \n",
      "__________________________________________________________________________________________________\n",
      "batch_normalization_25 (BatchNo (None, 42, 42, 128)  512         conv2d_26[0][0]                  \n",
      "__________________________________________________________________________________________________\n",
      "activation_25 (Activation)      (None, 42, 42, 128)  0           batch_normalization_25[0][0]     \n",
      "__________________________________________________________________________________________________\n",
      "conv2d_27 (Conv2D)              (None, 42, 42, 128)  147584      activation_25[0][0]              \n",
      "__________________________________________________________________________________________________\n",
      "batch_normalization_26 (BatchNo (None, 42, 42, 128)  512         conv2d_27[0][0]                  \n",
      "__________________________________________________________________________________________________\n",
      "activation_26 (Activation)      (None, 42, 42, 128)  0           batch_normalization_26[0][0]     \n",
      "__________________________________________________________________________________________________\n",
      "max_pooling2d_8 (MaxPooling2D)  (None, 21, 21, 128)  0           activation_26[0][0]              \n",
      "__________________________________________________________________________________________________\n",
      "dropout_12 (Dropout)            (None, 21, 21, 128)  0           max_pooling2d_8[0][0]            \n",
      "__________________________________________________________________________________________________\n",
      "conv2d_28 (Conv2D)              (None, 21, 21, 256)  295168      dropout_12[0][0]                 \n",
      "__________________________________________________________________________________________________\n",
      "batch_normalization_27 (BatchNo (None, 21, 21, 256)  1024        conv2d_28[0][0]                  \n",
      "__________________________________________________________________________________________________\n",
      "activation_27 (Activation)      (None, 21, 21, 256)  0           batch_normalization_27[0][0]     \n",
      "__________________________________________________________________________________________________\n",
      "conv2d_29 (Conv2D)              (None, 21, 21, 256)  590080      activation_27[0][0]              \n",
      "__________________________________________________________________________________________________\n",
      "batch_normalization_28 (BatchNo (None, 21, 21, 256)  1024        conv2d_29[0][0]                  \n",
      "__________________________________________________________________________________________________\n",
      "activation_28 (Activation)      (None, 21, 21, 256)  0           batch_normalization_28[0][0]     \n",
      "__________________________________________________________________________________________________\n",
      "conv2d_transpose_5 (Conv2DTrans (None, 42, 42, 128)  295040      activation_28[0][0]              \n",
      "__________________________________________________________________________________________________\n",
      "concatenate_5 (Concatenate)     (None, 42, 42, 256)  0           conv2d_transpose_5[0][0]         \n",
      "                                                                 activation_26[0][0]              \n",
      "__________________________________________________________________________________________________\n",
      "dropout_13 (Dropout)            (None, 42, 42, 256)  0           concatenate_5[0][0]              \n",
      "__________________________________________________________________________________________________\n",
      "conv2d_30 (Conv2D)              (None, 42, 42, 128)  295040      dropout_13[0][0]                 \n",
      "__________________________________________________________________________________________________\n",
      "batch_normalization_29 (BatchNo (None, 42, 42, 128)  512         conv2d_30[0][0]                  \n",
      "__________________________________________________________________________________________________\n",
      "activation_29 (Activation)      (None, 42, 42, 128)  0           batch_normalization_29[0][0]     \n",
      "__________________________________________________________________________________________________\n",
      "conv2d_31 (Conv2D)              (None, 42, 42, 128)  147584      activation_29[0][0]              \n",
      "__________________________________________________________________________________________________\n",
      "batch_normalization_30 (BatchNo (None, 42, 42, 128)  512         conv2d_31[0][0]                  \n",
      "__________________________________________________________________________________________________\n",
      "activation_30 (Activation)      (None, 42, 42, 128)  0           batch_normalization_30[0][0]     \n",
      "__________________________________________________________________________________________________\n",
      "conv2d_transpose_6 (Conv2DTrans (None, 84, 84, 64)   73792       activation_30[0][0]              \n",
      "__________________________________________________________________________________________________\n",
      "concatenate_6 (Concatenate)     (None, 84, 84, 128)  0           conv2d_transpose_6[0][0]         \n",
      "                                                                 activation_24[0][0]              \n",
      "__________________________________________________________________________________________________\n",
      "dropout_14 (Dropout)            (None, 84, 84, 128)  0           concatenate_6[0][0]              \n",
      "__________________________________________________________________________________________________\n",
      "conv2d_32 (Conv2D)              (None, 84, 84, 64)   73792       dropout_14[0][0]                 \n",
      "__________________________________________________________________________________________________\n",
      "batch_normalization_31 (BatchNo (None, 84, 84, 64)   256         conv2d_32[0][0]                  \n",
      "__________________________________________________________________________________________________\n",
      "activation_31 (Activation)      (None, 84, 84, 64)   0           batch_normalization_31[0][0]     \n",
      "__________________________________________________________________________________________________\n",
      "conv2d_33 (Conv2D)              (None, 84, 84, 64)   36928       activation_31[0][0]              \n",
      "__________________________________________________________________________________________________\n",
      "batch_normalization_32 (BatchNo (None, 84, 84, 64)   256         conv2d_33[0][0]                  \n",
      "__________________________________________________________________________________________________\n",
      "activation_32 (Activation)      (None, 84, 84, 64)   0           batch_normalization_32[0][0]     \n",
      "__________________________________________________________________________________________________\n",
      "conv2d_transpose_7 (Conv2DTrans (None, 168, 168, 32) 18464       activation_32[0][0]              \n",
      "__________________________________________________________________________________________________\n",
      "concatenate_7 (Concatenate)     (None, 168, 168, 64) 0           conv2d_transpose_7[0][0]         \n",
      "                                                                 activation_22[0][0]              \n",
      "__________________________________________________________________________________________________\n",
      "dropout_15 (Dropout)            (None, 168, 168, 64) 0           concatenate_7[0][0]              \n",
      "__________________________________________________________________________________________________\n",
      "conv2d_34 (Conv2D)              (None, 168, 168, 32) 18464       dropout_15[0][0]                 \n",
      "__________________________________________________________________________________________________\n",
      "batch_normalization_33 (BatchNo (None, 168, 168, 32) 128         conv2d_34[0][0]                  \n",
      "__________________________________________________________________________________________________\n",
      "activation_33 (Activation)      (None, 168, 168, 32) 0           batch_normalization_33[0][0]     \n",
      "__________________________________________________________________________________________________\n",
      "conv2d_35 (Conv2D)              (None, 168, 168, 32) 9248        activation_33[0][0]              \n",
      "__________________________________________________________________________________________________\n",
      "batch_normalization_34 (BatchNo (None, 168, 168, 32) 128         conv2d_35[0][0]                  \n",
      "__________________________________________________________________________________________________\n",
      "activation_34 (Activation)      (None, 168, 168, 32) 0           batch_normalization_34[0][0]     \n",
      "__________________________________________________________________________________________________\n",
      "conv2d_transpose_8 (Conv2DTrans (None, 336, 336, 16) 4624        activation_34[0][0]              \n",
      "__________________________________________________________________________________________________\n",
      "concatenate_8 (Concatenate)     (None, 336, 336, 32) 0           conv2d_transpose_8[0][0]         \n",
      "                                                                 activation_20[0][0]              \n",
      "__________________________________________________________________________________________________\n",
      "dropout_16 (Dropout)            (None, 336, 336, 32) 0           concatenate_8[0][0]              \n",
      "__________________________________________________________________________________________________\n",
      "conv2d_36 (Conv2D)              (None, 336, 336, 16) 4624        dropout_16[0][0]                 \n",
      "__________________________________________________________________________________________________\n",
      "batch_normalization_35 (BatchNo (None, 336, 336, 16) 64          conv2d_36[0][0]                  \n",
      "__________________________________________________________________________________________________\n",
      "activation_35 (Activation)      (None, 336, 336, 16) 0           batch_normalization_35[0][0]     \n",
      "__________________________________________________________________________________________________\n",
      "conv2d_37 (Conv2D)              (None, 336, 336, 16) 2320        activation_35[0][0]              \n",
      "__________________________________________________________________________________________________\n",
      "batch_normalization_36 (BatchNo (None, 336, 336, 16) 64          conv2d_37[0][0]                  \n",
      "__________________________________________________________________________________________________\n",
      "activation_36 (Activation)      (None, 336, 336, 16) 0           batch_normalization_36[0][0]     \n",
      "__________________________________________________________________________________________________\n",
      "conv2d_38 (Conv2D)              (None, 336, 336, 1)  17          activation_36[0][0]              \n",
      "==================================================================================================\n",
      "Total params: 2,164,305\n",
      "Trainable params: 2,161,361\n",
      "Non-trainable params: 2,944\n",
      "__________________________________________________________________________________________________\n"
     ]
    }
   ],
   "source": [
    "input_img = Input((img_height, img_width, 1), name='img')\n",
    "model = get_unet(input_img, n_filters=16, dropout=0.05, batchnorm=True)\n",
    "\n",
    "model.compile(optimizer=Adam(), loss=\"binary_crossentropy\", metrics=[\"accuracy\"])\n",
    "model.summary()"
   ]
  },
  {
   "cell_type": "code",
   "execution_count": 17,
   "metadata": {},
   "outputs": [],
   "source": [
    "X_train_res = X_train.reshape((-1, img_height, img_width, 1))\n",
    "          \n",
    "X_train_target_res = X_train_target.reshape((-1, img_height, img_height, 1))"
   ]
  },
  {
   "cell_type": "code",
   "execution_count": 68,
   "metadata": {},
   "outputs": [
    {
     "data": {
      "text/plain": [
       "(52917, 336, 336, 1)"
      ]
     },
     "execution_count": 68,
     "metadata": {},
     "output_type": "execute_result"
    }
   ],
   "source": [
    "X_train_res.shape"
   ]
  },
  {
   "cell_type": "code",
   "execution_count": 69,
   "metadata": {},
   "outputs": [
    {
     "data": {
      "text/plain": [
       "(17639, 336, 336, 1)"
      ]
     },
     "execution_count": 69,
     "metadata": {},
     "output_type": "execute_result"
    }
   ],
   "source": [
    "X_train_target_res.shape"
   ]
  },
  {
   "cell_type": "code",
   "execution_count": 18,
   "metadata": {
    "scrolled": true
   },
   "outputs": [
    {
     "name": "stdout",
     "output_type": "stream",
     "text": [
      "Train on 15875 samples, validate on 1764 samples\n",
      "Epoch 1/150\n",
      "15875/15875 [==============================] - 401s 25ms/step - loss: 0.1546 - acc: 0.9849 - val_loss: 0.0887 - val_acc: 0.9894\n",
      "\n",
      "Epoch 00001: val_loss improved from inf to 0.08874, saving model to winner-float1.h5\n",
      "Epoch 2/150\n",
      "15875/15875 [==============================] - 386s 24ms/step - loss: 0.0885 - acc: 0.9887 - val_loss: 0.0825 - val_acc: 0.9894\n",
      "\n",
      "Epoch 00002: val_loss improved from 0.08874 to 0.08248, saving model to winner-float1.h5\n",
      "Epoch 3/150\n",
      "15875/15875 [==============================] - 386s 24ms/step - loss: 0.0855 - acc: 0.9887 - val_loss: 0.0819 - val_acc: 0.9894\n",
      "\n",
      "Epoch 00003: val_loss improved from 0.08248 to 0.08187, saving model to winner-float1.h5\n",
      "Epoch 4/150\n",
      "15875/15875 [==============================] - 386s 24ms/step - loss: 0.0844 - acc: 0.9887 - val_loss: 0.0805 - val_acc: 0.9894\n",
      "\n",
      "Epoch 00004: val_loss improved from 0.08187 to 0.08051, saving model to winner-float1.h5\n",
      "Epoch 5/150\n",
      "15875/15875 [==============================] - 387s 24ms/step - loss: 0.0839 - acc: 0.9887 - val_loss: 0.0806 - val_acc: 0.9894\n",
      "\n",
      "Epoch 00005: val_loss did not improve from 0.08051\n",
      "Epoch 6/150\n",
      "15875/15875 [==============================] - 387s 24ms/step - loss: 0.0836 - acc: 0.9887 - val_loss: 0.0796 - val_acc: 0.9894\n",
      "\n",
      "Epoch 00006: val_loss improved from 0.08051 to 0.07964, saving model to winner-float1.h5\n",
      "Epoch 7/150\n",
      "15875/15875 [==============================] - 387s 24ms/step - loss: 0.0833 - acc: 0.9887 - val_loss: 0.0799 - val_acc: 0.9894\n",
      "\n",
      "Epoch 00007: val_loss did not improve from 0.07964\n",
      "Epoch 8/150\n",
      "15875/15875 [==============================] - 387s 24ms/step - loss: 0.0830 - acc: 0.9887 - val_loss: 0.0799 - val_acc: 0.9894\n",
      "\n",
      "Epoch 00008: val_loss did not improve from 0.07964\n",
      "Epoch 9/150\n",
      "15875/15875 [==============================] - 387s 24ms/step - loss: 0.0828 - acc: 0.9887 - val_loss: 0.0796 - val_acc: 0.9894\n",
      "\n",
      "Epoch 00009: val_loss improved from 0.07964 to 0.07956, saving model to winner-float1.h5\n",
      "Epoch 10/150\n",
      "15875/15875 [==============================] - 387s 24ms/step - loss: 0.0826 - acc: 0.9887 - val_loss: 0.0795 - val_acc: 0.9894\n",
      "\n",
      "Epoch 00010: val_loss improved from 0.07956 to 0.07947, saving model to winner-float1.h5\n",
      "Epoch 11/150\n",
      "15875/15875 [==============================] - 387s 24ms/step - loss: 0.0823 - acc: 0.9887 - val_loss: 0.0809 - val_acc: 0.9894\n",
      "\n",
      "Epoch 00011: val_loss did not improve from 0.07947\n",
      "Epoch 12/150\n",
      "15875/15875 [==============================] - 387s 24ms/step - loss: 0.0820 - acc: 0.9887 - val_loss: 0.0794 - val_acc: 0.9894\n",
      "\n",
      "Epoch 00012: val_loss improved from 0.07947 to 0.07936, saving model to winner-float1.h5\n",
      "Epoch 13/150\n",
      "15875/15875 [==============================] - 387s 24ms/step - loss: 0.0817 - acc: 0.9887 - val_loss: 0.0794 - val_acc: 0.9894\n",
      "\n",
      "Epoch 00013: val_loss improved from 0.07936 to 0.07935, saving model to winner-float1.h5\n",
      "Epoch 14/150\n",
      "15875/15875 [==============================] - 387s 24ms/step - loss: 0.0814 - acc: 0.9887 - val_loss: 0.0793 - val_acc: 0.9894\n",
      "\n",
      "Epoch 00014: val_loss improved from 0.07935 to 0.07934, saving model to winner-float1.h5\n",
      "Epoch 15/150\n",
      "15875/15875 [==============================] - 387s 24ms/step - loss: 0.0810 - acc: 0.9887 - val_loss: 0.0796 - val_acc: 0.9894\n",
      "\n",
      "Epoch 00015: val_loss did not improve from 0.07934\n",
      "Epoch 16/150\n",
      "15875/15875 [==============================] - 387s 24ms/step - loss: 0.0807 - acc: 0.9887 - val_loss: 0.0799 - val_acc: 0.9894\n",
      "\n",
      "Epoch 00016: val_loss did not improve from 0.07934\n",
      "Epoch 17/150\n",
      "15875/15875 [==============================] - 387s 24ms/step - loss: 0.0802 - acc: 0.9887 - val_loss: 0.0808 - val_acc: 0.9894\n",
      "\n",
      "Epoch 00017: val_loss did not improve from 0.07934\n",
      "Epoch 18/150\n",
      "15875/15875 [==============================] - 387s 24ms/step - loss: 0.0798 - acc: 0.9886 - val_loss: 0.0798 - val_acc: 0.9888\n",
      "\n",
      "Epoch 00018: val_loss did not improve from 0.07934\n",
      "Epoch 19/150\n",
      "15875/15875 [==============================] - 387s 24ms/step - loss: 0.0792 - acc: 0.9880 - val_loss: 0.0802 - val_acc: 0.9890\n",
      "\n",
      "Epoch 00019: val_loss did not improve from 0.07934\n",
      "Epoch 00019: early stopping\n"
     ]
    }
   ],
   "source": [
    "FILE_NAME = 'winner-float1.h5'\n",
    "if os.path.isfile(FILE_NAME):\n",
    "    print('exists the file: ' + FILE_NAME)\n",
    "    \n",
    "    model = load_model(FILE_NAME)\n",
    "else:\n",
    "    \n",
    "    earlystopper = EarlyStopping(patience=5, verbose=1)\n",
    "    checkpointer = ModelCheckpoint(FILE_NAME, verbose=1, save_best_only=True)\n",
    "    model.fit(X_train_res[:17639], X_train_target_res, validation_split=0.1, \n",
    "              batch_size=20, epochs=150, callbacks=[earlystopper, checkpointer])"
   ]
  },
  {
   "cell_type": "code",
   "execution_count": 22,
   "metadata": {},
   "outputs": [],
   "source": [
    "sample_data_test = pd.read_json('/media/juancr/Data/Lyft/test_data/sample_data.json')"
   ]
  },
  {
   "cell_type": "code",
   "execution_count": 23,
   "metadata": {
    "scrolled": true
   },
   "outputs": [
    {
     "data": {
      "text/html": [
       "<div>\n",
       "<style scoped>\n",
       "    .dataframe tbody tr th:only-of-type {\n",
       "        vertical-align: middle;\n",
       "    }\n",
       "\n",
       "    .dataframe tbody tr th {\n",
       "        vertical-align: top;\n",
       "    }\n",
       "\n",
       "    .dataframe thead th {\n",
       "        text-align: right;\n",
       "    }\n",
       "</style>\n",
       "<table border=\"1\" class=\"dataframe\">\n",
       "  <thead>\n",
       "    <tr style=\"text-align: right;\">\n",
       "      <th></th>\n",
       "      <th>fileformat</th>\n",
       "      <th>is_key_frame</th>\n",
       "      <th>height</th>\n",
       "      <th>timestamp</th>\n",
       "      <th>filename</th>\n",
       "      <th>token</th>\n",
       "      <th>ego_pose_token</th>\n",
       "      <th>sample_token</th>\n",
       "      <th>prev</th>\n",
       "      <th>next</th>\n",
       "      <th>calibrated_sensor_token</th>\n",
       "      <th>width</th>\n",
       "    </tr>\n",
       "  </thead>\n",
       "  <tbody>\n",
       "    <tr>\n",
       "      <td>0</td>\n",
       "      <td>jpeg</td>\n",
       "      <td>True</td>\n",
       "      <td>1024.0</td>\n",
       "      <td>2019-02-08 19:23:28.717605000</td>\n",
       "      <td>images/host-a011_cam2_1233689008717605006.jpeg</td>\n",
       "      <td>1b7ad8ac352589c4a86f9a6cbef4f136a4272bd6291eae...</td>\n",
       "      <td>e170e300eb28df54eaf0ffc16659124aebd3d0df264e24...</td>\n",
       "      <td>2f7129731b7a7a81265deb5f8df44e937ea60824238a1b...</td>\n",
       "      <td>cba4c4e61f2b8824ed22e37e85cd3bf19e9f970eb4fb78...</td>\n",
       "      <td>7e83e9c889f6ef2b45da7223da3b4a201e87b1d88b9cab...</td>\n",
       "      <td>04afbdfff5bc7913179997e0a8e4067ca9eac5cf329001...</td>\n",
       "      <td>1224.0</td>\n",
       "    </tr>\n",
       "    <tr>\n",
       "      <td>1</td>\n",
       "      <td>bin</td>\n",
       "      <td>True</td>\n",
       "      <td>NaN</td>\n",
       "      <td>2019-02-11 23:17:58.301031250</td>\n",
       "      <td>lidar/host-a011_lidar1_1233962278301031366.bin</td>\n",
       "      <td>5468aea18ec7506b5660aab1d09a534d840eaa252b3545...</td>\n",
       "      <td>45ebc7b166fac45f97292939113bbef9b8cfd9cb267021...</td>\n",
       "      <td>311a858f719389a4fd914ccf6bb3b1294c10f95fbbe417...</td>\n",
       "      <td>7a7e5f25824c7db4a3e2ea5ca18eefa23bf2fc13e3549e...</td>\n",
       "      <td>548fd8ce4b103cf28bb2d8059716b05714b96f50919f65...</td>\n",
       "      <td>043947e092f2df7723186143caafad12b5f4ae51328ce0...</td>\n",
       "      <td>NaN</td>\n",
       "    </tr>\n",
       "    <tr>\n",
       "      <td>2</td>\n",
       "      <td>jpeg</td>\n",
       "      <td>True</td>\n",
       "      <td>1024.0</td>\n",
       "      <td>2019-02-11 21:55:58.850968000</td>\n",
       "      <td>images/host-a015_cam0_1233957358850968006.jpeg</td>\n",
       "      <td>59a7689c386ae985181f3b709c2ce3e67b666086be8142...</td>\n",
       "      <td>96f269f9d63e2827d883cebb6529dcfad8f44a59245bdf...</td>\n",
       "      <td>7bfdadbdae169b0dc4a9704de19654203d5658aa961e78...</td>\n",
       "      <td>37dca76ea52c5964eb4ebd8be96b09d6a461f03013a2c9...</td>\n",
       "      <td>758a1ca944111554b062a0df648c3d569df06ff8789ba6...</td>\n",
       "      <td>c6823615f781fb7fbc629fc6992a6dc15786fd3d613eaa...</td>\n",
       "      <td>1224.0</td>\n",
       "    </tr>\n",
       "    <tr>\n",
       "      <td>3</td>\n",
       "      <td>jpeg</td>\n",
       "      <td>True</td>\n",
       "      <td>864.0</td>\n",
       "      <td>2019-02-01 20:50:52.450948000</td>\n",
       "      <td>images/host-a004_cam6_1233089452450948006.jpeg</td>\n",
       "      <td>b87b3ea33a28bbd065fa7123dcc9ff71cac88f3b1d5754...</td>\n",
       "      <td>8d148e2defa6150444d41c1725e5e3a10b0763e04e883a...</td>\n",
       "      <td>85d428b83c90880a23aa634da1a821d0af6e1045046849...</td>\n",
       "      <td>4c291e1f5b4bb43f43b7e268be1efcef9b1c912903e336...</td>\n",
       "      <td>ad749dd7344f857720aaa9cc52b2714f942fd6fe5bc08d...</td>\n",
       "      <td>bb86c8ed87c60936572901c1d8159fcb6f9d46ec7e2ac2...</td>\n",
       "      <td>2048.0</td>\n",
       "    </tr>\n",
       "    <tr>\n",
       "      <td>4</td>\n",
       "      <td>jpeg</td>\n",
       "      <td>True</td>\n",
       "      <td>1024.0</td>\n",
       "      <td>2019-03-08 23:44:18.984485000</td>\n",
       "      <td>images/host-a011_cam4_1236123858984485006.jpeg</td>\n",
       "      <td>d1d674e496610b7c5d42ba46bc48d237b55c77627eec9a...</td>\n",
       "      <td>e6ed33615480148fb928303fda1a38d8074084a09a6b23...</td>\n",
       "      <td>24a7090eca5d85a680bd975ad30ad43bd2a598227fa697...</td>\n",
       "      <td>644f1c0b49b00c78e4ac38f138000e069a6c470fc92c01...</td>\n",
       "      <td>e04d87e2d13b65d62e3c8105004f447cf86164906a2a87...</td>\n",
       "      <td>1752d13cc27a84424457a0ec095f8b501342ae6b96dac7...</td>\n",
       "      <td>1224.0</td>\n",
       "    </tr>\n",
       "  </tbody>\n",
       "</table>\n",
       "</div>"
      ],
      "text/plain": [
       "  fileformat  is_key_frame  height                     timestamp  \\\n",
       "0       jpeg          True  1024.0 2019-02-08 19:23:28.717605000   \n",
       "1        bin          True     NaN 2019-02-11 23:17:58.301031250   \n",
       "2       jpeg          True  1024.0 2019-02-11 21:55:58.850968000   \n",
       "3       jpeg          True   864.0 2019-02-01 20:50:52.450948000   \n",
       "4       jpeg          True  1024.0 2019-03-08 23:44:18.984485000   \n",
       "\n",
       "                                         filename  \\\n",
       "0  images/host-a011_cam2_1233689008717605006.jpeg   \n",
       "1  lidar/host-a011_lidar1_1233962278301031366.bin   \n",
       "2  images/host-a015_cam0_1233957358850968006.jpeg   \n",
       "3  images/host-a004_cam6_1233089452450948006.jpeg   \n",
       "4  images/host-a011_cam4_1236123858984485006.jpeg   \n",
       "\n",
       "                                               token  \\\n",
       "0  1b7ad8ac352589c4a86f9a6cbef4f136a4272bd6291eae...   \n",
       "1  5468aea18ec7506b5660aab1d09a534d840eaa252b3545...   \n",
       "2  59a7689c386ae985181f3b709c2ce3e67b666086be8142...   \n",
       "3  b87b3ea33a28bbd065fa7123dcc9ff71cac88f3b1d5754...   \n",
       "4  d1d674e496610b7c5d42ba46bc48d237b55c77627eec9a...   \n",
       "\n",
       "                                      ego_pose_token  \\\n",
       "0  e170e300eb28df54eaf0ffc16659124aebd3d0df264e24...   \n",
       "1  45ebc7b166fac45f97292939113bbef9b8cfd9cb267021...   \n",
       "2  96f269f9d63e2827d883cebb6529dcfad8f44a59245bdf...   \n",
       "3  8d148e2defa6150444d41c1725e5e3a10b0763e04e883a...   \n",
       "4  e6ed33615480148fb928303fda1a38d8074084a09a6b23...   \n",
       "\n",
       "                                        sample_token  \\\n",
       "0  2f7129731b7a7a81265deb5f8df44e937ea60824238a1b...   \n",
       "1  311a858f719389a4fd914ccf6bb3b1294c10f95fbbe417...   \n",
       "2  7bfdadbdae169b0dc4a9704de19654203d5658aa961e78...   \n",
       "3  85d428b83c90880a23aa634da1a821d0af6e1045046849...   \n",
       "4  24a7090eca5d85a680bd975ad30ad43bd2a598227fa697...   \n",
       "\n",
       "                                                prev  \\\n",
       "0  cba4c4e61f2b8824ed22e37e85cd3bf19e9f970eb4fb78...   \n",
       "1  7a7e5f25824c7db4a3e2ea5ca18eefa23bf2fc13e3549e...   \n",
       "2  37dca76ea52c5964eb4ebd8be96b09d6a461f03013a2c9...   \n",
       "3  4c291e1f5b4bb43f43b7e268be1efcef9b1c912903e336...   \n",
       "4  644f1c0b49b00c78e4ac38f138000e069a6c470fc92c01...   \n",
       "\n",
       "                                                next  \\\n",
       "0  7e83e9c889f6ef2b45da7223da3b4a201e87b1d88b9cab...   \n",
       "1  548fd8ce4b103cf28bb2d8059716b05714b96f50919f65...   \n",
       "2  758a1ca944111554b062a0df648c3d569df06ff8789ba6...   \n",
       "3  ad749dd7344f857720aaa9cc52b2714f942fd6fe5bc08d...   \n",
       "4  e04d87e2d13b65d62e3c8105004f447cf86164906a2a87...   \n",
       "\n",
       "                             calibrated_sensor_token   width  \n",
       "0  04afbdfff5bc7913179997e0a8e4067ca9eac5cf329001...  1224.0  \n",
       "1  043947e092f2df7723186143caafad12b5f4ae51328ce0...     NaN  \n",
       "2  c6823615f781fb7fbc629fc6992a6dc15786fd3d613eaa...  1224.0  \n",
       "3  bb86c8ed87c60936572901c1d8159fcb6f9d46ec7e2ac2...  2048.0  \n",
       "4  1752d13cc27a84424457a0ec095f8b501342ae6b96dac7...  1224.0  "
      ]
     },
     "execution_count": 23,
     "metadata": {},
     "output_type": "execute_result"
    }
   ],
   "source": [
    "sample_data_test.head()"
   ]
  },
  {
   "cell_type": "code",
   "execution_count": 28,
   "metadata": {},
   "outputs": [
    {
     "name": "stdout",
     "output_type": "stream",
     "text": [
      "JSON file instance.json missing, using empty list\n",
      "JSON file sample_annotation.json missing, using empty list\n",
      "9 category,\n",
      "17 attribute,\n",
      "4 visibility,\n",
      "0 instance,\n",
      "8 sensor,\n",
      "168 calibrated_sensor,\n",
      "219744 ego_pose,\n",
      "218 log,\n",
      "218 scene,\n",
      "27468 sample,\n",
      "219744 sample_data,\n",
      "0 sample_annotation,\n",
      "1 map,\n",
      "Done loading in 3.6 seconds.\n",
      "======\n",
      "Reverse indexing ...\n",
      "Done reverse indexing in 0.7 seconds.\n",
      "======\n"
     ]
    }
   ],
   "source": [
    "level5data = LyftDataset(data_path='.', json_path='/media/juancr/Data/Lyft/test_data', verbose=True)"
   ]
  },
  {
   "cell_type": "code",
   "execution_count": 30,
   "metadata": {},
   "outputs": [],
   "source": [
    "# Create soft links\n",
    "\n",
    "!ln -s /media/juancr/Data/Lyft/test_images images\n",
    "!ln -s /media/juancr/Data/Lyft/test_maps maps\n",
    "!ln -s /media/juancr/Data/Lyft/test_lidar lidar"
   ]
  },
  {
   "cell_type": "code",
   "execution_count": 34,
   "metadata": {
    "scrolled": false
   },
   "outputs": [
    {
     "data": {
      "application/vnd.jupyter.widget-view+json": {
       "model_id": "2952d22e32c74ea4b9726c4e80be2d60",
       "version_major": 2,
       "version_minor": 0
      },
      "text/plain": [
       "HBox(children=(IntProgress(value=0, max=27468), HTML(value='')))"
      ]
     },
     "metadata": {},
     "output_type": "display_data"
    },
    {
     "name": "stdout",
     "output_type": "stream",
     "text": [
      "\n"
     ]
    }
   ],
   "source": [
    "for token in tqdm_notebook(sample_data_test.sample_token.unique()):\n",
    "    prepare_testing_data_for_scene(token)"
   ]
  },
  {
   "cell_type": "code",
   "execution_count": 35,
   "metadata": {},
   "outputs": [],
   "source": [
    "TEST_PATH_GLOB = \"./artifacts_test/*_input.png\"\n",
    "test_fns = glob.glob(TEST_PATH_GLOB)"
   ]
  },
  {
   "cell_type": "code",
   "execution_count": 36,
   "metadata": {},
   "outputs": [],
   "source": [
    "img_height,img_width = 336,336\n",
    "img_chan = 3\n",
    "X_test = np.zeros((len(test_fns), img_height, img_width, img_chan), dtype=np.int8) "
   ]
  },
  {
   "cell_type": "code",
   "execution_count": null,
   "metadata": {},
   "outputs": [
    {
     "data": {
      "application/vnd.jupyter.widget-view+json": {
       "model_id": "712d3e068d7e4d74ba57896cbf6e8e2c",
       "version_major": 2,
       "version_minor": 0
      },
      "text/plain": [
       "HBox(children=(IntProgress(value=0, max=27468), HTML(value='')))"
      ]
     },
     "metadata": {},
     "output_type": "display_data"
    }
   ],
   "source": [
    "for i in tqdm_notebook(range(0, len(test_fns))):\n",
    "    X_test[i] += Image.open(test_fns[i])"
   ]
  },
  {
   "cell_type": "code",
   "execution_count": null,
   "metadata": {},
   "outputs": [],
   "source": [
    "model.predict()"
   ]
  }
 ],
 "metadata": {
  "kernelspec": {
   "display_name": "Lyft",
   "language": "python",
   "name": "lyft"
  },
  "language_info": {
   "codemirror_mode": {
    "name": "ipython",
    "version": 3
   },
   "file_extension": ".py",
   "mimetype": "text/x-python",
   "name": "python",
   "nbconvert_exporter": "python",
   "pygments_lexer": "ipython3",
   "version": "3.7.4"
  }
 },
 "nbformat": 4,
 "nbformat_minor": 2
}
